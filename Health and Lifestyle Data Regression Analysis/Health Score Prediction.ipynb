{
 "cells": [
  {
   "cell_type": "markdown",
   "id": "d4e92e4d-faf5-4281-b299-7ce1db04870f",
   "metadata": {},
   "source": [
    "# Project\n",
    "#### -  Type: Supervised Learning\n",
    "#### -  Sub-type: Regression\n",
    "#### - Data Type: Structured\n",
    "#### - Analytics Type: Predictive Analytics"
   ]
  },
  {
   "cell_type": "markdown",
   "id": "c7ca5b36-e9dd-41e0-b949-0ac862313de3",
   "metadata": {},
   "source": [
    "# Predicting Health Index Scores Based on Lifestyle Habits using Regression Models"
   ]
  },
  {
   "cell_type": "markdown",
   "id": "32c60c0f-3c4c-4700-9f50-d507474d8736",
   "metadata": {},
   "source": [
    "## 1. Import libraries"
   ]
  },
  {
   "cell_type": "code",
   "execution_count": 1,
   "id": "5f27127c-a11c-43e9-9731-fd3264d45af3",
   "metadata": {},
   "outputs": [],
   "source": [
    "import pandas as pd\n",
    "import numpy as np\n",
    "import seaborn as sns\n",
    "import matplotlib.pyplot as plt\n",
    "import warnings \n",
    "warnings.simplefilter('ignore')"
   ]
  },
  {
   "cell_type": "code",
   "execution_count": 2,
   "id": "1440c64c-77f9-4b96-b875-dac2e25c5ac1",
   "metadata": {},
   "outputs": [],
   "source": [
    "df = pd.read_csv('synthetic_health_data.csv')"
   ]
  },
  {
   "cell_type": "code",
   "execution_count": 3,
   "id": "1339d9ad-5cbb-43ff-b0da-d0fc5996740f",
   "metadata": {},
   "outputs": [
    {
     "data": {
      "text/html": [
       "<div>\n",
       "<style scoped>\n",
       "    .dataframe tbody tr th:only-of-type {\n",
       "        vertical-align: middle;\n",
       "    }\n",
       "\n",
       "    .dataframe tbody tr th {\n",
       "        vertical-align: top;\n",
       "    }\n",
       "\n",
       "    .dataframe thead th {\n",
       "        text-align: right;\n",
       "    }\n",
       "</style>\n",
       "<table border=\"1\" class=\"dataframe\">\n",
       "  <thead>\n",
       "    <tr style=\"text-align: right;\">\n",
       "      <th></th>\n",
       "      <th>Age</th>\n",
       "      <th>BMI</th>\n",
       "      <th>Exercise_Frequency</th>\n",
       "      <th>Diet_Quality</th>\n",
       "      <th>Sleep_Hours</th>\n",
       "      <th>Smoking_Status</th>\n",
       "      <th>Alcohol_Consumption</th>\n",
       "      <th>Health_Score</th>\n",
       "    </tr>\n",
       "  </thead>\n",
       "  <tbody>\n",
       "    <tr>\n",
       "      <th>0</th>\n",
       "      <td>45.960570</td>\n",
       "      <td>31.996777</td>\n",
       "      <td>5</td>\n",
       "      <td>55.403270</td>\n",
       "      <td>7.300359</td>\n",
       "      <td>0</td>\n",
       "      <td>2.834707</td>\n",
       "      <td>70.542122</td>\n",
       "    </tr>\n",
       "    <tr>\n",
       "      <th>1</th>\n",
       "      <td>38.340828</td>\n",
       "      <td>29.623168</td>\n",
       "      <td>6</td>\n",
       "      <td>41.838357</td>\n",
       "      <td>7.012419</td>\n",
       "      <td>1</td>\n",
       "      <td>7.199517</td>\n",
       "      <td>57.244637</td>\n",
       "    </tr>\n",
       "    <tr>\n",
       "      <th>2</th>\n",
       "      <td>47.772262</td>\n",
       "      <td>25.298152</td>\n",
       "      <td>5</td>\n",
       "      <td>76.904948</td>\n",
       "      <td>6.028641</td>\n",
       "      <td>1</td>\n",
       "      <td>4.097944</td>\n",
       "      <td>96.333722</td>\n",
       "    </tr>\n",
       "    <tr>\n",
       "      <th>3</th>\n",
       "      <td>58.276358</td>\n",
       "      <td>21.765316</td>\n",
       "      <td>2</td>\n",
       "      <td>49.756767</td>\n",
       "      <td>5.802714</td>\n",
       "      <td>1</td>\n",
       "      <td>3.649377</td>\n",
       "      <td>61.321783</td>\n",
       "    </tr>\n",
       "    <tr>\n",
       "      <th>4</th>\n",
       "      <td>37.190160</td>\n",
       "      <td>28.491117</td>\n",
       "      <td>2</td>\n",
       "      <td>44.218737</td>\n",
       "      <td>7.912548</td>\n",
       "      <td>0</td>\n",
       "      <td>2.839795</td>\n",
       "      <td>67.175894</td>\n",
       "    </tr>\n",
       "  </tbody>\n",
       "</table>\n",
       "</div>"
      ],
      "text/plain": [
       "         Age        BMI  Exercise_Frequency  Diet_Quality  Sleep_Hours  \\\n",
       "0  45.960570  31.996777                   5     55.403270     7.300359   \n",
       "1  38.340828  29.623168                   6     41.838357     7.012419   \n",
       "2  47.772262  25.298152                   5     76.904948     6.028641   \n",
       "3  58.276358  21.765316                   2     49.756767     5.802714   \n",
       "4  37.190160  28.491117                   2     44.218737     7.912548   \n",
       "\n",
       "   Smoking_Status  Alcohol_Consumption  Health_Score  \n",
       "0               0             2.834707     70.542122  \n",
       "1               1             7.199517     57.244637  \n",
       "2               1             4.097944     96.333722  \n",
       "3               1             3.649377     61.321783  \n",
       "4               0             2.839795     67.175894  "
      ]
     },
     "execution_count": 3,
     "metadata": {},
     "output_type": "execute_result"
    }
   ],
   "source": [
    "df.head()"
   ]
  },
  {
   "cell_type": "markdown",
   "id": "4964ed38-d925-4f87-9795-8f56f77173aa",
   "metadata": {},
   "source": [
    "## 2. Data Exploration\n",
    "Now let's take a look at the data we are dealing with here are some useful info we can get from this phase:\n",
    "1. Better understanding of our features.\n",
    "2. Statistical characteristics of our dataset.\n",
    "3. the shape of the data\n",
    "4. Data types and null values in each feature, if any exist\n",
    "5. Checking some samples.\n",
    "\n",
    "By answering these questions preprocessing will be much easier"
   ]
  },
  {
   "cell_type": "markdown",
   "id": "cab00198-957e-40df-a30e-61bedb036a3b",
   "metadata": {},
   "source": [
    "### 2.1. Renaming  "
   ]
  },
  {
   "cell_type": "code",
   "execution_count": 4,
   "id": "422e3663-8daa-4a84-b650-05b8e74bebe0",
   "metadata": {},
   "outputs": [],
   "source": [
    "df = df.rename(columns={'Age': 'age',\n",
    "                        'BMI': 'bmi',\n",
    "                        'Exercise_Frequency': 'ex_freq',\n",
    "                        'Diet_Quality': 'diet',\n",
    "                        'Sleep_Hours': 'sleep_hrs',\n",
    "                        'Smoking_Status': 'smoke',\n",
    "                        'Alcohol_Consumption': 'alcohol',\n",
    "                       })"
   ]
  },
  {
   "cell_type": "code",
   "execution_count": 5,
   "id": "d9e7750a-4c6e-4583-99ea-a19a0c5e44eb",
   "metadata": {},
   "outputs": [],
   "source": [
    "# Selecting multiple columns correctly\n",
    "continuous = df[['age', 'bmi', 'diet', 'sleep_hrs', 'alcohol']]\n",
    "categorical = df[['ex_freq']]  # If it's a single column, keep it inside a list\n",
    "count = df[['smoke']]  # Make sure the column name is spelled correctly"
   ]
  },
  {
   "cell_type": "markdown",
   "id": "4ded7ac1-6c10-455e-83e6-2d9faed343f6",
   "metadata": {},
   "source": [
    "### 2.2. Column Dtype Correction"
   ]
  },
  {
   "cell_type": "code",
   "execution_count": 6,
   "id": "2f663d2d-f691-492e-9f93-591c26148dbf",
   "metadata": {},
   "outputs": [
    {
     "data": {
      "text/plain": [
       "age             float64\n",
       "bmi             float64\n",
       "ex_freq           int64\n",
       "diet            float64\n",
       "sleep_hrs       float64\n",
       "smoke             int64\n",
       "alcohol         float64\n",
       "Health_Score    float64\n",
       "dtype: object"
      ]
     },
     "execution_count": 6,
     "metadata": {},
     "output_type": "execute_result"
    }
   ],
   "source": [
    "df.dtypes"
   ]
  },
  {
   "cell_type": "code",
   "execution_count": 7,
   "id": "aca9200f-45b3-4e25-849e-3d616e513684",
   "metadata": {},
   "outputs": [],
   "source": [
    "df['age'] = df['age'].astype('int')"
   ]
  },
  {
   "cell_type": "code",
   "execution_count": 8,
   "id": "8fcd5d10-64cd-41cd-895b-66db53297c64",
   "metadata": {},
   "outputs": [],
   "source": [
    "#Reducing decimal values\n",
    "df['bmi'] = df['bmi'].round(2)\n",
    "df['diet'] = df['diet'].round(2)\n",
    "df['sleep_hrs'] = df['sleep_hrs'].round(2)\n",
    "df['alcohol'] = df['alcohol'].round(2)\n",
    "df[\"Health_Score\"] = df[\"Health_Score\"].round(2)"
   ]
  },
  {
   "cell_type": "code",
   "execution_count": 9,
   "id": "ad857317-91cb-49b2-80fa-818147cbd49e",
   "metadata": {},
   "outputs": [
    {
     "data": {
      "text/html": [
       "<div>\n",
       "<style scoped>\n",
       "    .dataframe tbody tr th:only-of-type {\n",
       "        vertical-align: middle;\n",
       "    }\n",
       "\n",
       "    .dataframe tbody tr th {\n",
       "        vertical-align: top;\n",
       "    }\n",
       "\n",
       "    .dataframe thead th {\n",
       "        text-align: right;\n",
       "    }\n",
       "</style>\n",
       "<table border=\"1\" class=\"dataframe\">\n",
       "  <thead>\n",
       "    <tr style=\"text-align: right;\">\n",
       "      <th></th>\n",
       "      <th>age</th>\n",
       "      <th>bmi</th>\n",
       "      <th>ex_freq</th>\n",
       "      <th>diet</th>\n",
       "      <th>sleep_hrs</th>\n",
       "      <th>smoke</th>\n",
       "      <th>alcohol</th>\n",
       "      <th>Health_Score</th>\n",
       "    </tr>\n",
       "  </thead>\n",
       "  <tbody>\n",
       "    <tr>\n",
       "      <th>0</th>\n",
       "      <td>45</td>\n",
       "      <td>32.0</td>\n",
       "      <td>5</td>\n",
       "      <td>55.4</td>\n",
       "      <td>7.3</td>\n",
       "      <td>0</td>\n",
       "      <td>2.83</td>\n",
       "      <td>70.54</td>\n",
       "    </tr>\n",
       "  </tbody>\n",
       "</table>\n",
       "</div>"
      ],
      "text/plain": [
       "   age   bmi  ex_freq  diet  sleep_hrs  smoke  alcohol  Health_Score\n",
       "0   45  32.0        5  55.4        7.3      0     2.83         70.54"
      ]
     },
     "execution_count": 9,
     "metadata": {},
     "output_type": "execute_result"
    }
   ],
   "source": [
    "df.head(1)"
   ]
  },
  {
   "cell_type": "markdown",
   "id": "28611712-70fa-4932-811f-c4926efe26be",
   "metadata": {},
   "source": [
    "### 2.3. Correlation Between columns"
   ]
  },
  {
   "cell_type": "code",
   "execution_count": 10,
   "id": "9b105a4e-4ff2-45d6-a79b-b01df0c52a7e",
   "metadata": {},
   "outputs": [
    {
     "data": {
      "text/html": [
       "<div>\n",
       "<style scoped>\n",
       "    .dataframe tbody tr th:only-of-type {\n",
       "        vertical-align: middle;\n",
       "    }\n",
       "\n",
       "    .dataframe tbody tr th {\n",
       "        vertical-align: top;\n",
       "    }\n",
       "\n",
       "    .dataframe thead th {\n",
       "        text-align: right;\n",
       "    }\n",
       "</style>\n",
       "<table border=\"1\" class=\"dataframe\">\n",
       "  <thead>\n",
       "    <tr style=\"text-align: right;\">\n",
       "      <th></th>\n",
       "      <th>age</th>\n",
       "      <th>bmi</th>\n",
       "      <th>ex_freq</th>\n",
       "      <th>diet</th>\n",
       "      <th>sleep_hrs</th>\n",
       "      <th>smoke</th>\n",
       "      <th>alcohol</th>\n",
       "      <th>Health_Score</th>\n",
       "    </tr>\n",
       "  </thead>\n",
       "  <tbody>\n",
       "    <tr>\n",
       "      <th>age</th>\n",
       "      <td>1.000000</td>\n",
       "      <td>-0.039600</td>\n",
       "      <td>0.010848</td>\n",
       "      <td>-0.016088</td>\n",
       "      <td>0.023869</td>\n",
       "      <td>0.002340</td>\n",
       "      <td>-0.022945</td>\n",
       "      <td>-0.186597</td>\n",
       "    </tr>\n",
       "    <tr>\n",
       "      <th>bmi</th>\n",
       "      <td>-0.039600</td>\n",
       "      <td>1.000000</td>\n",
       "      <td>0.007062</td>\n",
       "      <td>-0.039986</td>\n",
       "      <td>0.034525</td>\n",
       "      <td>-0.033789</td>\n",
       "      <td>-0.011089</td>\n",
       "      <td>-0.415171</td>\n",
       "    </tr>\n",
       "    <tr>\n",
       "      <th>ex_freq</th>\n",
       "      <td>0.010848</td>\n",
       "      <td>0.007062</td>\n",
       "      <td>1.000000</td>\n",
       "      <td>-0.021849</td>\n",
       "      <td>0.021967</td>\n",
       "      <td>0.024958</td>\n",
       "      <td>-0.011615</td>\n",
       "      <td>0.245039</td>\n",
       "    </tr>\n",
       "    <tr>\n",
       "      <th>diet</th>\n",
       "      <td>-0.016088</td>\n",
       "      <td>-0.039986</td>\n",
       "      <td>-0.021849</td>\n",
       "      <td>1.000000</td>\n",
       "      <td>0.009579</td>\n",
       "      <td>0.010283</td>\n",
       "      <td>0.000087</td>\n",
       "      <td>0.680678</td>\n",
       "    </tr>\n",
       "    <tr>\n",
       "      <th>sleep_hrs</th>\n",
       "      <td>0.023869</td>\n",
       "      <td>0.034525</td>\n",
       "      <td>0.021967</td>\n",
       "      <td>0.009579</td>\n",
       "      <td>1.000000</td>\n",
       "      <td>-0.022324</td>\n",
       "      <td>-0.020615</td>\n",
       "      <td>0.268941</td>\n",
       "    </tr>\n",
       "    <tr>\n",
       "      <th>smoke</th>\n",
       "      <td>0.002340</td>\n",
       "      <td>-0.033789</td>\n",
       "      <td>0.024958</td>\n",
       "      <td>0.010283</td>\n",
       "      <td>-0.022324</td>\n",
       "      <td>1.000000</td>\n",
       "      <td>-0.025073</td>\n",
       "      <td>-0.109116</td>\n",
       "    </tr>\n",
       "    <tr>\n",
       "      <th>alcohol</th>\n",
       "      <td>-0.022945</td>\n",
       "      <td>-0.011089</td>\n",
       "      <td>-0.011615</td>\n",
       "      <td>0.000087</td>\n",
       "      <td>-0.020615</td>\n",
       "      <td>-0.025073</td>\n",
       "      <td>1.000000</td>\n",
       "      <td>-0.138297</td>\n",
       "    </tr>\n",
       "    <tr>\n",
       "      <th>Health_Score</th>\n",
       "      <td>-0.186597</td>\n",
       "      <td>-0.415171</td>\n",
       "      <td>0.245039</td>\n",
       "      <td>0.680678</td>\n",
       "      <td>0.268941</td>\n",
       "      <td>-0.109116</td>\n",
       "      <td>-0.138297</td>\n",
       "      <td>1.000000</td>\n",
       "    </tr>\n",
       "  </tbody>\n",
       "</table>\n",
       "</div>"
      ],
      "text/plain": [
       "                   age       bmi   ex_freq      diet  sleep_hrs     smoke  \\\n",
       "age           1.000000 -0.039600  0.010848 -0.016088   0.023869  0.002340   \n",
       "bmi          -0.039600  1.000000  0.007062 -0.039986   0.034525 -0.033789   \n",
       "ex_freq       0.010848  0.007062  1.000000 -0.021849   0.021967  0.024958   \n",
       "diet         -0.016088 -0.039986 -0.021849  1.000000   0.009579  0.010283   \n",
       "sleep_hrs     0.023869  0.034525  0.021967  0.009579   1.000000 -0.022324   \n",
       "smoke         0.002340 -0.033789  0.024958  0.010283  -0.022324  1.000000   \n",
       "alcohol      -0.022945 -0.011089 -0.011615  0.000087  -0.020615 -0.025073   \n",
       "Health_Score -0.186597 -0.415171  0.245039  0.680678   0.268941 -0.109116   \n",
       "\n",
       "               alcohol  Health_Score  \n",
       "age          -0.022945     -0.186597  \n",
       "bmi          -0.011089     -0.415171  \n",
       "ex_freq      -0.011615      0.245039  \n",
       "diet          0.000087      0.680678  \n",
       "sleep_hrs    -0.020615      0.268941  \n",
       "smoke        -0.025073     -0.109116  \n",
       "alcohol       1.000000     -0.138297  \n",
       "Health_Score -0.138297      1.000000  "
      ]
     },
     "execution_count": 10,
     "metadata": {},
     "output_type": "execute_result"
    }
   ],
   "source": [
    "df.corr()"
   ]
  },
  {
   "cell_type": "code",
   "execution_count": 11,
   "id": "d23beb66-779b-4d10-a117-073337a38495",
   "metadata": {},
   "outputs": [
    {
     "data": {
      "image/png": "[encoded data removed]",
      "text/plain": [
       "<Figure size 640x480 with 2 Axes>"
      ]
     },
     "metadata": {},
     "output_type": "display_data"
    }
   ],
   "source": [
    "sns.heatmap(df.corr(), annot = True, cmap='coolwarm', fmt='.2f')\n",
    "plt.title('Correlation Heatmap')\n",
    "plt.show()"
   ]
  },
  {
   "cell_type": "code",
   "execution_count": 12,
   "id": "a9643b68-7da2-4a4e-8ee0-c6c3ef0b6ed6",
   "metadata": {},
   "outputs": [
    {
     "data": {
      "text/plain": [
       "(1000, 8)"
      ]
     },
     "execution_count": 12,
     "metadata": {},
     "output_type": "execute_result"
    }
   ],
   "source": [
    "df.shape"
   ]
  },
  {
   "cell_type": "markdown",
   "id": "53ebd5e8-81a8-41b7-b191-2e3d28eda84e",
   "metadata": {},
   "source": [
    "### 2.4. Detecting missing values"
   ]
  },
  {
   "cell_type": "code",
   "execution_count": 13,
   "id": "a407faae-b41d-452d-b340-d82b8209bb5c",
   "metadata": {},
   "outputs": [
    {
     "data": {
      "text/plain": [
       "age             0\n",
       "bmi             0\n",
       "ex_freq         0\n",
       "diet            0\n",
       "sleep_hrs       0\n",
       "smoke           0\n",
       "alcohol         0\n",
       "Health_Score    0\n",
       "dtype: int64"
      ]
     },
     "execution_count": 13,
     "metadata": {},
     "output_type": "execute_result"
    }
   ],
   "source": [
    "df.isnull().sum()"
   ]
  },
  {
   "cell_type": "markdown",
   "id": "7c18600a-aec1-4289-943a-16754333abbe",
   "metadata": {},
   "source": [
    "### 2.5. Descriptive Statistics"
   ]
  },
  {
   "cell_type": "code",
   "execution_count": 14,
   "id": "1cfce4e3-4253-4ef4-a902-f96be03ecb13",
   "metadata": {},
   "outputs": [
    {
     "data": {
      "text/html": [
       "<div>\n",
       "<style scoped>\n",
       "    .dataframe tbody tr th:only-of-type {\n",
       "        vertical-align: middle;\n",
       "    }\n",
       "\n",
       "    .dataframe tbody tr th {\n",
       "        vertical-align: top;\n",
       "    }\n",
       "\n",
       "    .dataframe thead th {\n",
       "        text-align: right;\n",
       "    }\n",
       "</style>\n",
       "<table border=\"1\" class=\"dataframe\">\n",
       "  <thead>\n",
       "    <tr style=\"text-align: right;\">\n",
       "      <th></th>\n",
       "      <th>age</th>\n",
       "      <th>bmi</th>\n",
       "      <th>ex_freq</th>\n",
       "      <th>diet</th>\n",
       "      <th>sleep_hrs</th>\n",
       "      <th>smoke</th>\n",
       "      <th>alcohol</th>\n",
       "      <th>Health_Score</th>\n",
       "    </tr>\n",
       "  </thead>\n",
       "  <tbody>\n",
       "    <tr>\n",
       "      <th>count</th>\n",
       "      <td>1000.000000</td>\n",
       "      <td>1000.000000</td>\n",
       "      <td>1000.000000</td>\n",
       "      <td>1000.00000</td>\n",
       "      <td>1000.000000</td>\n",
       "      <td>1000.000000</td>\n",
       "      <td>1000.000000</td>\n",
       "      <td>1000.000000</td>\n",
       "    </tr>\n",
       "    <tr>\n",
       "      <th>mean</th>\n",
       "      <td>39.742000</td>\n",
       "      <td>25.354120</td>\n",
       "      <td>2.888000</td>\n",
       "      <td>69.95300</td>\n",
       "      <td>6.973100</td>\n",
       "      <td>0.499000</td>\n",
       "      <td>3.079520</td>\n",
       "      <td>85.480010</td>\n",
       "    </tr>\n",
       "    <tr>\n",
       "      <th>std</th>\n",
       "      <td>11.751491</td>\n",
       "      <td>4.987314</td>\n",
       "      <td>1.995354</td>\n",
       "      <td>14.97206</td>\n",
       "      <td>1.517226</td>\n",
       "      <td>0.500249</td>\n",
       "      <td>2.084588</td>\n",
       "      <td>13.633855</td>\n",
       "    </tr>\n",
       "    <tr>\n",
       "      <th>min</th>\n",
       "      <td>1.000000</td>\n",
       "      <td>10.300000</td>\n",
       "      <td>0.000000</td>\n",
       "      <td>19.91000</td>\n",
       "      <td>2.430000</td>\n",
       "      <td>0.000000</td>\n",
       "      <td>-3.590000</td>\n",
       "      <td>29.110000</td>\n",
       "    </tr>\n",
       "    <tr>\n",
       "      <th>25%</th>\n",
       "      <td>32.000000</td>\n",
       "      <td>21.967500</td>\n",
       "      <td>1.000000</td>\n",
       "      <td>59.94500</td>\n",
       "      <td>5.907500</td>\n",
       "      <td>0.000000</td>\n",
       "      <td>1.647500</td>\n",
       "      <td>76.432500</td>\n",
       "    </tr>\n",
       "    <tr>\n",
       "      <th>50%</th>\n",
       "      <td>40.000000</td>\n",
       "      <td>25.315000</td>\n",
       "      <td>3.000000</td>\n",
       "      <td>69.97500</td>\n",
       "      <td>6.990000</td>\n",
       "      <td>0.000000</td>\n",
       "      <td>3.065000</td>\n",
       "      <td>87.500000</td>\n",
       "    </tr>\n",
       "    <tr>\n",
       "      <th>75%</th>\n",
       "      <td>47.000000</td>\n",
       "      <td>28.645000</td>\n",
       "      <td>5.000000</td>\n",
       "      <td>80.53000</td>\n",
       "      <td>8.052500</td>\n",
       "      <td>1.000000</td>\n",
       "      <td>4.487500</td>\n",
       "      <td>99.762500</td>\n",
       "    </tr>\n",
       "    <tr>\n",
       "      <th>max</th>\n",
       "      <td>86.000000</td>\n",
       "      <td>40.970000</td>\n",
       "      <td>6.000000</td>\n",
       "      <td>110.27000</td>\n",
       "      <td>11.640000</td>\n",
       "      <td>1.000000</td>\n",
       "      <td>11.110000</td>\n",
       "      <td>100.000000</td>\n",
       "    </tr>\n",
       "  </tbody>\n",
       "</table>\n",
       "</div>"
      ],
      "text/plain": [
       "               age          bmi      ex_freq        diet    sleep_hrs  \\\n",
       "count  1000.000000  1000.000000  1000.000000  1000.00000  1000.000000   \n",
       "mean     39.742000    25.354120     2.888000    69.95300     6.973100   \n",
       "std      11.751491     4.987314     1.995354    14.97206     1.517226   \n",
       "min       1.000000    10.300000     0.000000    19.91000     2.430000   \n",
       "25%      32.000000    21.967500     1.000000    59.94500     5.907500   \n",
       "50%      40.000000    25.315000     3.000000    69.97500     6.990000   \n",
       "75%      47.000000    28.645000     5.000000    80.53000     8.052500   \n",
       "max      86.000000    40.970000     6.000000   110.27000    11.640000   \n",
       "\n",
       "             smoke      alcohol  Health_Score  \n",
       "count  1000.000000  1000.000000   1000.000000  \n",
       "mean      0.499000     3.079520     85.480010  \n",
       "std       0.500249     2.084588     13.633855  \n",
       "min       0.000000    -3.590000     29.110000  \n",
       "25%       0.000000     1.647500     76.432500  \n",
       "50%       0.000000     3.065000     87.500000  \n",
       "75%       1.000000     4.487500     99.762500  \n",
       "max       1.000000    11.110000    100.000000  "
      ]
     },
     "execution_count": 14,
     "metadata": {},
     "output_type": "execute_result"
    }
   ],
   "source": [
    "df.describe()"
   ]
  },
  {
   "cell_type": "markdown",
   "id": "8dfb8134-8b55-4a03-b3c5-7de1d399d352",
   "metadata": {},
   "source": [
    "**Now to the more statistical POV**\n",
    "\n",
    "\n",
    "we can see that there are all kinds of people in our dataset.\n",
    "\n",
    "1. The age range of these people is between 1-86 and their average age is 40.\n",
    "2. Exercise frequencies are average in the scale type\n",
    "3. Sleep patterns are approximately 7 hours on average.\n",
    "4. Health score levels are 76 out of 100 points even in the lowest 25% and 99 out of 75%, so the conclusion we can draw from there is that health scores are high for now."
   ]
  },
  {
   "cell_type": "code",
   "execution_count": 15,
   "id": "0cbf1817-cdfc-4abe-b54a-e924b9838540",
   "metadata": {},
   "outputs": [
    {
     "name": "stdout",
     "output_type": "stream",
     "text": [
      "<class 'pandas.core.frame.DataFrame'>\n",
      "RangeIndex: 1000 entries, 0 to 999\n",
      "Data columns (total 8 columns):\n",
      " #   Column        Non-Null Count  Dtype  \n",
      "---  ------        --------------  -----  \n",
      " 0   age           1000 non-null   int32  \n",
      " 1   bmi           1000 non-null   float64\n",
      " 2   ex_freq       1000 non-null   int64  \n",
      " 3   diet          1000 non-null   float64\n",
      " 4   sleep_hrs     1000 non-null   float64\n",
      " 5   smoke         1000 non-null   int64  \n",
      " 6   alcohol       1000 non-null   float64\n",
      " 7   Health_Score  1000 non-null   float64\n",
      "dtypes: float64(5), int32(1), int64(2)\n",
      "memory usage: 58.7 KB\n"
     ]
    }
   ],
   "source": [
    "df.info()"
   ]
  },
  {
   "cell_type": "markdown",
   "id": "bcd185c1-124f-438a-92f2-4a882584a9e7",
   "metadata": {},
   "source": [
    "## 3. Data Analysis"
   ]
  },
  {
   "cell_type": "markdown",
   "id": "7cb512a6-9c56-4614-9a9f-8a1b2ac71812",
   "metadata": {},
   "source": [
    "### Univariate Analysis"
   ]
  },
  {
   "cell_type": "code",
   "execution_count": 16,
   "id": "931c221e-4a5c-43c6-8244-4b803c3bd4ae",
   "metadata": {},
   "outputs": [
    {
     "data": {
      "image/png": "[encoded data removed]",
      "text/plain": [
       "<Figure size 640x480 with 1 Axes>"
      ]
     },
     "metadata": {},
     "output_type": "display_data"
    }
   ],
   "source": [
    "sns.histplot(df['age'], color = 'red')\n",
    "plt.title('Distribution of Age')\n",
    "plt.xlabel('Age')\n",
    "plt.ylabel('Frequency')\n",
    "plt.show()"
   ]
  },
  {
   "cell_type": "markdown",
   "id": "48421abe-ec0b-4c37-bc4f-ca198b868712",
   "metadata": {},
   "source": [
    "**What can we conclude from this distribution ?**\n",
    "- The data is **normally distributed** it shows some sort of regular pattern with one peak.\n",
    "- Age histogram have outliers."
   ]
  },
  {
   "cell_type": "code",
   "execution_count": 17,
   "id": "ac1b631b-9303-4df5-aade-1a1351231562",
   "metadata": {},
   "outputs": [
    {
     "data": {
      "image/png": "[encoded data removed]",
      "text/plain": [
       "<Figure size 640x480 with 1 Axes>"
      ]
     },
     "metadata": {},
     "output_type": "display_data"
    }
   ],
   "source": [
    "sns.histplot(df['bmi'], color = 'purple')\n",
    "plt.title('Distribution of BMI')\n",
    "plt.xlabel('BMI')\n",
    "plt.ylabel('Frequency')\n",
    "plt.show()"
   ]
  },
  {
   "cell_type": "code",
   "execution_count": 18,
   "id": "96ba38a6-61ee-4531-b416-bc81b4d3927a",
   "metadata": {},
   "outputs": [
    {
     "data": {
      "text/plain": [
       "Index(['age', 'bmi', 'ex_freq', 'diet', 'sleep_hrs', 'smoke', 'alcohol',\n",
       "       'Health_Score'],\n",
       "      dtype='object')"
      ]
     },
     "execution_count": 18,
     "metadata": {},
     "output_type": "execute_result"
    }
   ],
   "source": [
    "df.columns"
   ]
  },
  {
   "cell_type": "code",
   "execution_count": 19,
   "id": "1667c196-dd60-4d21-9e50-6f50708b0702",
   "metadata": {},
   "outputs": [
    {
     "data": {
      "image/png": "[encoded data removed]",
      "text/plain": [
       "<Figure size 640x480 with 1 Axes>"
      ]
     },
     "metadata": {},
     "output_type": "display_data"
    }
   ],
   "source": [
    "sns.histplot(df['diet'], color='tan')\n",
    "plt.title('Distribution of Diet Quality')\n",
    "plt.xlabel('Diet Quality')\n",
    "plt.ylabel('Frequency')\n",
    "plt.show()"
   ]
  },
  {
   "cell_type": "code",
   "execution_count": 20,
   "id": "ce91566f-611b-44c2-ab82-6a869e25ffc5",
   "metadata": {},
   "outputs": [],
   "source": [
    "df['diet'] = df['diet'].apply(lambda x: 0 if x < 0 else (100 if x > 100 else x))"
   ]
  },
  {
   "cell_type": "code",
   "execution_count": 21,
   "id": "57bc2f75-93b1-4cb1-8e08-2fea47554be5",
   "metadata": {},
   "outputs": [
    {
     "data": {
      "image/png": "[encoded data removed]",
      "text/plain": [
       "<Figure size 640x480 with 1 Axes>"
      ]
     },
     "metadata": {},
     "output_type": "display_data"
    }
   ],
   "source": [
    "sns.histplot(df['sleep_hrs'], color = 'pink')\n",
    "plt.title('Distribution of Sleep Hours')\n",
    "plt.xlabel('Sleep Hours')\n",
    "plt.ylabel('Frequency')\n",
    "plt.show()"
   ]
  },
  {
   "cell_type": "code",
   "execution_count": 22,
   "id": "82b4e76d-e949-49b7-92d0-407069c25920",
   "metadata": {},
   "outputs": [
    {
     "data": {
      "image/png": "[encoded data removed]",
      "text/plain": [
       "<Figure size 640x480 with 1 Axes>"
      ]
     },
     "metadata": {},
     "output_type": "display_data"
    }
   ],
   "source": [
    "sns.histplot(df['alcohol'], color = 'red')\n",
    "plt.title('Distribution of Alcohol Consumption')\n",
    "plt.xlabel('Alcohol Consumption')\n",
    "plt.ylabel('Frequency')\n",
    "plt.show()"
   ]
  },
  {
   "cell_type": "markdown",
   "id": "6db88f77-085c-4868-be2a-041feef4c21c",
   "metadata": {},
   "source": [
    "The histogram indicates values as low as -2, but in reality, negative values should represent non-consumption of alcohol. Therefore, I am converting all negative values to zero to accurately reflect the data.\n"
   ]
  },
  {
   "cell_type": "code",
   "execution_count": 23,
   "id": "76b09bf0-e6e6-4efd-8e6e-2c1014fd4d2e",
   "metadata": {},
   "outputs": [],
   "source": [
    "df['alcohol'] = df['alcohol'].apply(lambda x: 0 if x < 0 else x)"
   ]
  },
  {
   "cell_type": "code",
   "execution_count": 24,
   "id": "597a80b9-8611-4567-96cf-a822bcb905af",
   "metadata": {},
   "outputs": [
    {
     "data": {
      "image/png": "[encoded data removed]",
      "text/plain": [
       "<Figure size 800x800 with 1 Axes>"
      ]
     },
     "metadata": {},
     "output_type": "display_data"
    }
   ],
   "source": [
    "# Count values of 'smoke' column\n",
    "count = df['smoke'].value_counts()\n",
    "\n",
    "# Create figure\n",
    "fig, ax = plt.subplots(figsize=(8,8))\n",
    "\n",
    "# Plot pie chart\n",
    "count.plot.pie(autopct='%1.0f%%', colors=plt.get_cmap('Pastel1').colors, ax=ax)\n",
    "\n",
    "# Set title\n",
    "ax.set_title('Distribution of Smoking Status')\n",
    "\n",
    "# Make the pie chart circular\n",
    "ax.axis('equal')\n",
    "\n",
    "# Show plot\n",
    "plt.show()"
   ]
  },
  {
   "cell_type": "code",
   "execution_count": 25,
   "id": "98683417-da72-4ffb-9f03-9d4b5f390ce6",
   "metadata": {},
   "outputs": [
    {
     "data": {
      "image/png": "[encoded data removed]",
      "text/plain": [
       "<Figure size 800x800 with 1 Axes>"
      ]
     },
     "metadata": {},
     "output_type": "display_data"
    }
   ],
   "source": [
    "count = df['ex_freq'].value_counts()\n",
    "\n",
    "fig, ax = plt.subplots(figsize=(8, 8))\n",
    "\n",
    "count.plot.pie(autopct = '%1.0f%%', colors=plt.get_cmap('Pastel1').colors)\n",
    "ax.set_title('Distribution of Exercise Frequency')\n",
    "ax.axis('equal')\n",
    "plt.show()"
   ]
  },
  {
   "cell_type": "markdown",
   "id": "08f24cd8-bd9d-4ce1-b8ad-edfd7baee8dd",
   "metadata": {},
   "source": [
    "**So we have a nearly equal distribution of the 6 types exercise frequency**"
   ]
  },
  {
   "cell_type": "code",
   "execution_count": 26,
   "id": "1b7e4b0a-4ca3-4865-b23b-de3da71e24bb",
   "metadata": {},
   "outputs": [
    {
     "data": {
      "image/png": "[encoded data removed]",
      "text/plain": [
       "<Figure size 640x480 with 1 Axes>"
      ]
     },
     "metadata": {},
     "output_type": "display_data"
    }
   ],
   "source": [
    "sns.histplot(df['Health_Score'], color = 'pink')\n",
    "plt.title('Distribution of Health Score')\n",
    "plt.xlabel('Health Score')\n",
    "plt.ylabel('Frequency')\n",
    "plt.show()"
   ]
  },
  {
   "cell_type": "markdown",
   "id": "128f997a-9176-408c-a1ac-dd510f147369",
   "metadata": {},
   "source": [
    "- The Health Score is **left Skewed**\n",
    "\n",
    "**Now, that we know that the health score is high, we can look at graphs between the two types of data that show an inverse relationship**"
   ]
  },
  {
   "cell_type": "code",
   "execution_count": 27,
   "id": "540ea9f6-bb5e-4cdb-bf33-fd0017cd1bb4",
   "metadata": {},
   "outputs": [
    {
     "data": {
      "text/plain": [
       "<Axes: xlabel='Health_Score'>"
      ]
     },
     "execution_count": 27,
     "metadata": {},
     "output_type": "execute_result"
    },
    {
     "data": {
      "image/png": "[encoded data removed]",
      "text/plain": [
       "<Figure size 640x480 with 1 Axes>"
      ]
     },
     "metadata": {},
     "output_type": "display_data"
    }
   ],
   "source": [
    "# Let's draw boxplot for our target variable Health_Score\n",
    "sns.boxplot( x= df['Health_Score'])"
   ]
  },
  {
   "cell_type": "markdown",
   "id": "d55ad05f-239e-4aef-8ff2-1527ba691958",
   "metadata": {},
   "source": [
    "- Our Box-Plot Chart is skewed to the left.\n",
    "- Our health score is between 75-100 and is positive\n",
    "- We have 3 extreme values that are not in our range, between 30-40."
   ]
  },
  {
   "cell_type": "code",
   "execution_count": 28,
   "id": "c05c5c93-d4c2-4574-9155-ec7d1e9d229b",
   "metadata": {},
   "outputs": [
    {
     "data": {
      "text/plain": [
       "Index(['age', 'bmi', 'ex_freq', 'diet', 'sleep_hrs', 'smoke', 'alcohol',\n",
       "       'Health_Score'],\n",
       "      dtype='object')"
      ]
     },
     "execution_count": 28,
     "metadata": {},
     "output_type": "execute_result"
    }
   ],
   "source": [
    "df.columns"
   ]
  },
  {
   "cell_type": "code",
   "execution_count": 29,
   "id": "0b843c5c-7d72-461d-b5d2-ace05e606943",
   "metadata": {},
   "outputs": [],
   "source": [
    "# Export the clean data (assuming `df` is your cleaned DataFrame) to a CSV file\n",
    "df.to_csv('Health_Data.csv', index=False)  # index=False to avoid writing row numbers\n"
   ]
  },
  {
   "cell_type": "markdown",
   "id": "df0ab63d-5014-459b-8d76-422959de761b",
   "metadata": {},
   "source": [
    "### Feature Selection"
   ]
  },
  {
   "cell_type": "code",
   "execution_count": 30,
   "id": "466ab1fc-fa12-4d07-a0cf-b96ae6e8db20",
   "metadata": {},
   "outputs": [],
   "source": [
    "X = df[['age', 'bmi', 'ex_freq', 'diet', 'sleep_hrs', 'smoke', 'alcohol']]\n",
    "y = df['Health_Score']"
   ]
  },
  {
   "cell_type": "code",
   "execution_count": 31,
   "id": "a40ea2b7-cd28-412c-92db-8471bcc4d30f",
   "metadata": {},
   "outputs": [],
   "source": [
    "from sklearn.model_selection import train_test_split\n",
    "\n",
    "X_train, X_test, y_train, y_test = train_test_split(X,y, train_size=0.8, random_state=68)"
   ]
  },
  {
   "cell_type": "markdown",
   "id": "f033422c-8cb2-455f-b19f-03f116091bdf",
   "metadata": {},
   "source": [
    "# 1. Linear Models"
   ]
  },
  {
   "cell_type": "markdown",
   "id": "1c47d380-f94a-4c78-8b27-7041ad669178",
   "metadata": {},
   "source": [
    "## 1.1. Linear Regression"
   ]
  },
  {
   "cell_type": "code",
   "execution_count": 32,
   "id": "121d72c1-c850-4122-86e8-15a5b9852252",
   "metadata": {},
   "outputs": [
    {
     "name": "stdout",
     "output_type": "stream",
     "text": [
      "Train RMSE: 5.607502843348906\n"
     ]
    }
   ],
   "source": [
    "# Import the LinearRegression model\n",
    "from sklearn.linear_model import LinearRegression\n",
    "\n",
    "# Create an instance of the model\n",
    "model = LinearRegression()\n",
    "\n",
    "# Train the model using the training data\n",
    "model.fit(X_train, y_train)\n",
    "\n",
    "# Make predictions on the training and testing data\n",
    "ypred_train = model.predict(X_train)\n",
    "ypred_test = model.predict(X_test)\n",
    "\n",
    "# mean_squared_error metric\n",
    "from sklearn.metrics import mean_squared_error\n",
    "\n",
    "print('Train RMSE:', np.sqrt(mean_squared_error(y_train, ypred_train)))"
   ]
  },
  {
   "cell_type": "code",
   "execution_count": 33,
   "id": "50279144-50b0-4706-b039-6c69bba9fd05",
   "metadata": {},
   "outputs": [
    {
     "name": "stdout",
     "output_type": "stream",
     "text": [
      "Test Accuracy: 0.8464429540106522\n",
      "\n",
      "Train Accuracy: 0.8337965475296389\n",
      "Cross Validation Score: 0.8313199899345738\n"
     ]
    }
   ],
   "source": [
    "from sklearn.metrics import r2_score\n",
    "from sklearn.model_selection import cross_val_score\n",
    "\n",
    "# Test and Train R² scores\n",
    "print('Test Accuracy:', r2_score(y_test, ypred_test))\n",
    "print('\\nTrain Accuracy:', r2_score(y_train, ypred_train))\n",
    "# Cross Validation Score\n",
    "print('Cross Validation Score:', cross_val_score(model, X, y, cv=5, scoring='r2').mean())"
   ]
  },
  {
   "cell_type": "markdown",
   "id": "74cd09ec-631f-4318-b0df-75b2d421df90",
   "metadata": {},
   "source": [
    "## 1.2. Polynomial Regression"
   ]
  },
  {
   "cell_type": "markdown",
   "id": "f92eb7d0-bebb-4ce4-a70a-f64c1bf8afae",
   "metadata": {},
   "source": [
    "**Hyperparameter Tuning**"
   ]
  },
  {
   "cell_type": "code",
   "execution_count": 34,
   "id": "531d3a1d-840a-45a6-98e5-c61a31bcf8c0",
   "metadata": {},
   "outputs": [
    {
     "name": "stdout",
     "output_type": "stream",
     "text": [
      "Degree 1: Train R² = 0.8338, Test R² = 0.8464\n",
      "Degree 2: Train R² = 0.6040, Test R² = 0.6821\n",
      "Degree 3: Train R² = 0.8992, Test R² = 0.8795\n",
      "Degree 4: Train R² = 0.9395, Test R² = 0.8084\n",
      "Degree 5: Train R² = 0.9838, Test R² = -8.1211\n",
      "Degree 6: Train R² = 1.0000, Test R² = -379.4652\n",
      "Degree 7: Train R² = 1.0000, Test R² = -414.2562\n",
      "Degree 8: Train R² = 1.0000, Test R² = -416.4455\n",
      "Degree 9: Train R² = 1.0000, Test R² = -502.4870\n"
     ]
    }
   ],
   "source": [
    "from sklearn.preprocessing import PolynomialFeatures\n",
    "from sklearn.linear_model import LinearRegression\n",
    "from sklearn.metrics import r2_score\n",
    "\n",
    "train_r2 = []\n",
    "test_r2 = []\n",
    "\n",
    "i = range(1, 10)\n",
    "\n",
    "for degree in i:\n",
    "    \n",
    "    poly = PolynomialFeatures(degree=degree)\n",
    "    X_train_poly = poly.fit_transform(X_train)\n",
    "    X_test_poly = poly.transform(X_test)\n",
    "\n",
    "    # Modeling\n",
    "    model = LinearRegression()\n",
    "    model.fit(X_train_poly, y_train)\n",
    "\n",
    "    # Prediction and Evaluation\n",
    "    train_pred = model.predict(X_train_poly)\n",
    "    test_pred = model.predict(X_test_poly)\n",
    "\n",
    "    # Store R² Scores\n",
    "    train_r2.append(r2_score(y_train, train_pred))\n",
    "    test_r2.append(r2_score(y_test, test_pred))\n",
    "\n",
    "# Check results\n",
    "for degree, tr, te in zip(i, train_r2, test_r2):\n",
    "    print(f\"Degree {degree}: Train R² = {tr:.4f}, Test R² = {te:.4f}\")\n"
   ]
  },
  {
   "cell_type": "markdown",
   "id": "672546e5-8c89-47e4-85ff-02e180c619a9",
   "metadata": {},
   "source": [
    "After hypertunning, Degree 3 is perfect"
   ]
  },
  {
   "cell_type": "code",
   "execution_count": 35,
   "id": "b23e35a2-c100-4cb9-8842-b6a047105f86",
   "metadata": {},
   "outputs": [],
   "source": [
    "# Import the PolynomialFeatures class\n",
    "from sklearn.preprocessing import PolynomialFeatures\n",
    "\n",
    "# Create a converter to generate polynomial features of degree 3\n",
    "converter = PolynomialFeatures(degree=3)\n",
    "# Transform the training data to include polynomial features\n",
    "X_train_poly = pd.DataFrame(converter.fit_transform(X_train))\n",
    "# Transform the testing data to include polynomial features\n",
    "X_test_poly = pd.DataFrame(converter.fit_transform(X_test))\n"
   ]
  },
  {
   "cell_type": "code",
   "execution_count": 36,
   "id": "4cff4cc8-850c-40d6-b4b1-fb7b2ae28c03",
   "metadata": {},
   "outputs": [
    {
     "data": {
      "text/html": [
       "<style>#sk-container-id-1 {color: black;}#sk-container-id-1 pre{padding: 0;}#sk-container-id-1 div.sk-toggleable {background-color: white;}#sk-container-id-1 label.sk-toggleable__label {cursor: pointer;display: block;width: 100%;margin-bottom: 0;padding: 0.3em;box-sizing: border-box;text-align: center;}#sk-container-id-1 label.sk-toggleable__label-arrow:before {content: \"▸\";float: left;margin-right: 0.25em;color: #696969;}#sk-container-id-1 label.sk-toggleable__label-arrow:hover:before {color: black;}#sk-container-id-1 div.sk-estimator:hover label.sk-toggleable__label-arrow:before {color: black;}#sk-container-id-1 div.sk-toggleable__content {max-height: 0;max-width: 0;overflow: hidden;text-align: left;background-color: #f0f8ff;}#sk-container-id-1 div.sk-toggleable__content pre {margin: 0.2em;color: black;border-radius: 0.25em;background-color: #f0f8ff;}#sk-container-id-1 input.sk-toggleable__control:checked~div.sk-toggleable__content {max-height: 200px;max-width: 100%;overflow: auto;}#sk-container-id-1 input.sk-toggleable__control:checked~label.sk-toggleable__label-arrow:before {content: \"▾\";}#sk-container-id-1 div.sk-estimator input.sk-toggleable__control:checked~label.sk-toggleable__label {background-color: #d4ebff;}#sk-container-id-1 div.sk-label input.sk-toggleable__control:checked~label.sk-toggleable__label {background-color: #d4ebff;}#sk-container-id-1 input.sk-hidden--visually {border: 0;clip: rect(1px 1px 1px 1px);clip: rect(1px, 1px, 1px, 1px);height: 1px;margin: -1px;overflow: hidden;padding: 0;position: absolute;width: 1px;}#sk-container-id-1 div.sk-estimator {font-family: monospace;background-color: #f0f8ff;border: 1px dotted black;border-radius: 0.25em;box-sizing: border-box;margin-bottom: 0.5em;}#sk-container-id-1 div.sk-estimator:hover {background-color: #d4ebff;}#sk-container-id-1 div.sk-parallel-item::after {content: \"\";width: 100%;border-bottom: 1px solid gray;flex-grow: 1;}#sk-container-id-1 div.sk-label:hover label.sk-toggleable__label {background-color: #d4ebff;}#sk-container-id-1 div.sk-serial::before {content: \"\";position: absolute;border-left: 1px solid gray;box-sizing: border-box;top: 0;bottom: 0;left: 50%;z-index: 0;}#sk-container-id-1 div.sk-serial {display: flex;flex-direction: column;align-items: center;background-color: white;padding-right: 0.2em;padding-left: 0.2em;position: relative;}#sk-container-id-1 div.sk-item {position: relative;z-index: 1;}#sk-container-id-1 div.sk-parallel {display: flex;align-items: stretch;justify-content: center;background-color: white;position: relative;}#sk-container-id-1 div.sk-item::before, #sk-container-id-1 div.sk-parallel-item::before {content: \"\";position: absolute;border-left: 1px solid gray;box-sizing: border-box;top: 0;bottom: 0;left: 50%;z-index: -1;}#sk-container-id-1 div.sk-parallel-item {display: flex;flex-direction: column;z-index: 1;position: relative;background-color: white;}#sk-container-id-1 div.sk-parallel-item:first-child::after {align-self: flex-end;width: 50%;}#sk-container-id-1 div.sk-parallel-item:last-child::after {align-self: flex-start;width: 50%;}#sk-container-id-1 div.sk-parallel-item:only-child::after {width: 0;}#sk-container-id-1 div.sk-dashed-wrapped {border: 1px dashed gray;margin: 0 0.4em 0.5em 0.4em;box-sizing: border-box;padding-bottom: 0.4em;background-color: white;}#sk-container-id-1 div.sk-label label {font-family: monospace;font-weight: bold;display: inline-block;line-height: 1.2em;}#sk-container-id-1 div.sk-label-container {text-align: center;}#sk-container-id-1 div.sk-container {/* jupyter's `normalize.less` sets `[hidden] { display: none; }` but bootstrap.min.css set `[hidden] { display: none !important; }` so we also need the `!important` here to be able to override the default hidden behavior on the sphinx rendered scikit-learn.org. See: https://github.com/scikit-learn/scikit-learn/issues/21755 */display: inline-block !important;position: relative;}#sk-container-id-1 div.sk-text-repr-fallback {display: none;}</style><div id=\"sk-container-id-1\" class=\"sk-top-container\"><div class=\"sk-text-repr-fallback\"><pre>LinearRegression()</pre><b>In a Jupyter environment, please rerun this cell to show the HTML representation or trust the notebook. <br />On GitHub, the HTML representation is unable to render, please try loading this page with nbviewer.org.</b></div><div class=\"sk-container\" hidden><div class=\"sk-item\"><div class=\"sk-estimator sk-toggleable\"><input class=\"sk-toggleable__control sk-hidden--visually\" id=\"sk-estimator-id-1\" type=\"checkbox\" checked><label for=\"sk-estimator-id-1\" class=\"sk-toggleable__label sk-toggleable__label-arrow\">LinearRegression</label><div class=\"sk-toggleable__content\"><pre>LinearRegression()</pre></div></div></div></div></div>"
      ],
      "text/plain": [
       "LinearRegression()"
      ]
     },
     "execution_count": 36,
     "metadata": {},
     "output_type": "execute_result"
    }
   ],
   "source": [
    "from sklearn.linear_model import LinearRegression\n",
    "\n",
    "model = LinearRegression()\n",
    "\n",
    "# Train the model using the training data\n",
    "model.fit(X_train_poly, y_train)"
   ]
  },
  {
   "cell_type": "code",
   "execution_count": 37,
   "id": "73905e8b-9910-4bca-9ac9-6964ed1dae47",
   "metadata": {},
   "outputs": [],
   "source": [
    "ypred_train = model.predict(X_train_poly)\n",
    "ypred_test = model.predict(X_test_poly)"
   ]
  },
  {
   "cell_type": "code",
   "execution_count": 38,
   "id": "9b1a1ccf-7db9-486c-b472-b0a8ac246deb",
   "metadata": {},
   "outputs": [
    {
     "name": "stdout",
     "output_type": "stream",
     "text": [
      "Train RMSE: 4.366512860380456\n"
     ]
    }
   ],
   "source": [
    "from sklearn.metrics import mean_squared_error\n",
    "\n",
    "print('Train RMSE:',np.sqrt(mean_squared_error(y_train, ypred_train)))"
   ]
  },
  {
   "cell_type": "code",
   "execution_count": 39,
   "id": "5cc8f69b-88eb-43fb-877f-29cc81ea66e3",
   "metadata": {},
   "outputs": [
    {
     "name": "stdout",
     "output_type": "stream",
     "text": [
      "Test Accuracy: 0.8795067635509762\n",
      "\n",
      "Train Accuracy: 0.8992208889561051\n",
      "Cross Validation Score: 0.8567712820203169\n"
     ]
    }
   ],
   "source": [
    "from sklearn.metrics import r2_score\n",
    "from sklearn.model_selection import cross_val_score\n",
    "\n",
    "print('Test Accuracy:',r2_score(y_test, ypred_test))\n",
    "print('\\nTrain Accuracy:',r2_score(y_train, ypred_train))\n",
    "print('Cross Validation Score:',cross_val_score(model, X_train_poly,y_train, cv=5, scoring='r2').mean())"
   ]
  },
  {
   "cell_type": "markdown",
   "id": "f0b5115e-549e-4595-b7c3-8ce19627237d",
   "metadata": {},
   "source": [
    "## 1.3. Lasso Regression"
   ]
  },
  {
   "cell_type": "markdown",
   "id": "91051485-b6af-4ff5-ab12-35ddebd0dab7",
   "metadata": {},
   "source": [
    "Applying hyperparameter tuning using GridSearchCV"
   ]
  },
  {
   "cell_type": "code",
   "execution_count": 40,
   "id": "566903b1-1a49-4e32-ba63-fe4530fde942",
   "metadata": {},
   "outputs": [
    {
     "name": "stdout",
     "output_type": "stream",
     "text": [
      "{'alpha': 1}\n"
     ]
    }
   ],
   "source": [
    "# Import necessary libraries\n",
    "from sklearn.model_selection import GridSearchCV\n",
    "from sklearn.linear_model import Lasso\n",
    "\n",
    "# Create a Lasso regression model (estimator)\n",
    "estimator = Lasso()\n",
    "\n",
    "# Define the hyperparameter grid (alpha values from 1 to 99)\n",
    "param_grid = {'alpha': list(range(1, 100))}\n",
    "\n",
    "# Set up GridSearchCV with 5-fold cross-validation and R2 score for evaluation\n",
    "model = GridSearchCV(estimator, param_grid, cv=5, scoring='r2')\n",
    "\n",
    "# Train the model on the training data\n",
    "model.fit(X_train, y_train)\n",
    "\n",
    "# Print the best alpha value found by GridSearchCV\n",
    "print(model.best_params_)\n"
   ]
  },
  {
   "cell_type": "code",
   "execution_count": 41,
   "id": "e44b5375-d09e-4aed-bd4e-26dfca4f4746",
   "metadata": {},
   "outputs": [
    {
     "data": {
      "text/html": [
       "<style>#sk-container-id-2 {color: black;}#sk-container-id-2 pre{padding: 0;}#sk-container-id-2 div.sk-toggleable {background-color: white;}#sk-container-id-2 label.sk-toggleable__label {cursor: pointer;display: block;width: 100%;margin-bottom: 0;padding: 0.3em;box-sizing: border-box;text-align: center;}#sk-container-id-2 label.sk-toggleable__label-arrow:before {content: \"▸\";float: left;margin-right: 0.25em;color: #696969;}#sk-container-id-2 label.sk-toggleable__label-arrow:hover:before {color: black;}#sk-container-id-2 div.sk-estimator:hover label.sk-toggleable__label-arrow:before {color: black;}#sk-container-id-2 div.sk-toggleable__content {max-height: 0;max-width: 0;overflow: hidden;text-align: left;background-color: #f0f8ff;}#sk-container-id-2 div.sk-toggleable__content pre {margin: 0.2em;color: black;border-radius: 0.25em;background-color: #f0f8ff;}#sk-container-id-2 input.sk-toggleable__control:checked~div.sk-toggleable__content {max-height: 200px;max-width: 100%;overflow: auto;}#sk-container-id-2 input.sk-toggleable__control:checked~label.sk-toggleable__label-arrow:before {content: \"▾\";}#sk-container-id-2 div.sk-estimator input.sk-toggleable__control:checked~label.sk-toggleable__label {background-color: #d4ebff;}#sk-container-id-2 div.sk-label input.sk-toggleable__control:checked~label.sk-toggleable__label {background-color: #d4ebff;}#sk-container-id-2 input.sk-hidden--visually {border: 0;clip: rect(1px 1px 1px 1px);clip: rect(1px, 1px, 1px, 1px);height: 1px;margin: -1px;overflow: hidden;padding: 0;position: absolute;width: 1px;}#sk-container-id-2 div.sk-estimator {font-family: monospace;background-color: #f0f8ff;border: 1px dotted black;border-radius: 0.25em;box-sizing: border-box;margin-bottom: 0.5em;}#sk-container-id-2 div.sk-estimator:hover {background-color: #d4ebff;}#sk-container-id-2 div.sk-parallel-item::after {content: \"\";width: 100%;border-bottom: 1px solid gray;flex-grow: 1;}#sk-container-id-2 div.sk-label:hover label.sk-toggleable__label {background-color: #d4ebff;}#sk-container-id-2 div.sk-serial::before {content: \"\";position: absolute;border-left: 1px solid gray;box-sizing: border-box;top: 0;bottom: 0;left: 50%;z-index: 0;}#sk-container-id-2 div.sk-serial {display: flex;flex-direction: column;align-items: center;background-color: white;padding-right: 0.2em;padding-left: 0.2em;position: relative;}#sk-container-id-2 div.sk-item {position: relative;z-index: 1;}#sk-container-id-2 div.sk-parallel {display: flex;align-items: stretch;justify-content: center;background-color: white;position: relative;}#sk-container-id-2 div.sk-item::before, #sk-container-id-2 div.sk-parallel-item::before {content: \"\";position: absolute;border-left: 1px solid gray;box-sizing: border-box;top: 0;bottom: 0;left: 50%;z-index: -1;}#sk-container-id-2 div.sk-parallel-item {display: flex;flex-direction: column;z-index: 1;position: relative;background-color: white;}#sk-container-id-2 div.sk-parallel-item:first-child::after {align-self: flex-end;width: 50%;}#sk-container-id-2 div.sk-parallel-item:last-child::after {align-self: flex-start;width: 50%;}#sk-container-id-2 div.sk-parallel-item:only-child::after {width: 0;}#sk-container-id-2 div.sk-dashed-wrapped {border: 1px dashed gray;margin: 0 0.4em 0.5em 0.4em;box-sizing: border-box;padding-bottom: 0.4em;background-color: white;}#sk-container-id-2 div.sk-label label {font-family: monospace;font-weight: bold;display: inline-block;line-height: 1.2em;}#sk-container-id-2 div.sk-label-container {text-align: center;}#sk-container-id-2 div.sk-container {/* jupyter's `normalize.less` sets `[hidden] { display: none; }` but bootstrap.min.css set `[hidden] { display: none !important; }` so we also need the `!important` here to be able to override the default hidden behavior on the sphinx rendered scikit-learn.org. See: https://github.com/scikit-learn/scikit-learn/issues/21755 */display: inline-block !important;position: relative;}#sk-container-id-2 div.sk-text-repr-fallback {display: none;}</style><div id=\"sk-container-id-2\" class=\"sk-top-container\"><div class=\"sk-text-repr-fallback\"><pre>Lasso(alpha=1)</pre><b>In a Jupyter environment, please rerun this cell to show the HTML representation or trust the notebook. <br />On GitHub, the HTML representation is unable to render, please try loading this page with nbviewer.org.</b></div><div class=\"sk-container\" hidden><div class=\"sk-item\"><div class=\"sk-estimator sk-toggleable\"><input class=\"sk-toggleable__control sk-hidden--visually\" id=\"sk-estimator-id-2\" type=\"checkbox\" checked><label for=\"sk-estimator-id-2\" class=\"sk-toggleable__label sk-toggleable__label-arrow\">Lasso</label><div class=\"sk-toggleable__content\"><pre>Lasso(alpha=1)</pre></div></div></div></div></div>"
      ],
      "text/plain": [
       "Lasso(alpha=1)"
      ]
     },
     "execution_count": 41,
     "metadata": {},
     "output_type": "execute_result"
    }
   ],
   "source": [
    "# Import the Lasso regression model\n",
    "from sklearn.linear_model import Lasso\n",
    "\n",
    "# Create a Lasso model with alpha set to 1\n",
    "lasso = Lasso(alpha=1)\n",
    "# Train the Lasso model using the training data\n",
    "lasso.fit(X_train, y_train)"
   ]
  },
  {
   "cell_type": "code",
   "execution_count": 42,
   "id": "a3aa3a0f-be46-4f2f-bafa-ac1f29063791",
   "metadata": {},
   "outputs": [
    {
     "name": "stdout",
     "output_type": "stream",
     "text": [
      "Intercept (B0): 62.8104006096455\n",
      "Coefficients (B1): [-0.21698907 -1.07352439  1.47620134  0.60532382  2.05123504 -0.\n",
      " -0.7730205 ]\n"
     ]
    }
   ],
   "source": [
    "print('Intercept (B0):',lasso.intercept_)\n",
    "print('Coefficients (B1):',lasso.coef_)"
   ]
  },
  {
   "cell_type": "code",
   "execution_count": 43,
   "id": "5ea7b3b8-dfc2-47bf-8b20-100132b0e995",
   "metadata": {},
   "outputs": [],
   "source": [
    "ypred_train = lasso.predict(X_train)"
   ]
  },
  {
   "cell_type": "code",
   "execution_count": 44,
   "id": "46c87d4e-8ddb-47aa-b166-77a17435ee02",
   "metadata": {},
   "outputs": [
    {
     "name": "stdout",
     "output_type": "stream",
     "text": [
      "Train R2: 0.811714583344223\n",
      "CV Score: 0.8070403003367967\n"
     ]
    }
   ],
   "source": [
    "from sklearn.metrics import r2_score\n",
    "from sklearn.model_selection import cross_val_score\n",
    "\n",
    "print('Train R2:',r2_score(y_train, ypred_train))\n",
    "print('CV Score:',cross_val_score(lasso, X_train, y_train, cv=5, scoring='r2').mean())"
   ]
  },
  {
   "cell_type": "code",
   "execution_count": 45,
   "id": "da7295a9-0985-4e24-b8ef-8f99ea3bfdbe",
   "metadata": {},
   "outputs": [
    {
     "name": "stdout",
     "output_type": "stream",
     "text": [
      "Test R2: 0.8214354422727748\n"
     ]
    }
   ],
   "source": [
    "ypred_test = lasso.predict(X_test)\n",
    "print('Test R2:', r2_score(y_test, ypred_test))"
   ]
  },
  {
   "cell_type": "markdown",
   "id": "14863c2b-fadf-4b73-a3af-abbf2d167425",
   "metadata": {},
   "source": [
    "## 1.4. Ridge Regression"
   ]
  },
  {
   "cell_type": "markdown",
   "id": "715717aa-53eb-4302-a0aa-693d1083eb99",
   "metadata": {},
   "source": [
    "Hyperparameter Tuning using Grid Search CV"
   ]
  },
  {
   "cell_type": "code",
   "execution_count": 46,
   "id": "d678a70c-234b-4d46-a8cb-171d60682760",
   "metadata": {},
   "outputs": [
    {
     "data": {
      "text/plain": [
       "{'alpha': 5}"
      ]
     },
     "execution_count": 46,
     "metadata": {},
     "output_type": "execute_result"
    }
   ],
   "source": [
    "# Import the Ridge regression model\n",
    "from sklearn.linear_model import Ridge\n",
    "\n",
    "# Create a Ridge regression estimator\n",
    "estimator = Ridge()\n",
    "# Define the hyperparameter grid (alpha values from 1 to 99)\n",
    "param_grid = {'alpha': list(range(1, 100))}\n",
    "# Set up GridSearchCV with 5-fold cross-validation and R2 score for evaluation\n",
    "model = GridSearchCV(estimator, param_grid, cv=5, scoring='r2')\n",
    "# Train the model on the training data\n",
    "model.fit(X_train, y_train)\n",
    "# Display the best alpha value found by GridSearchCV\n",
    "model.best_params_"
   ]
  },
  {
   "cell_type": "code",
   "execution_count": 47,
   "id": "1f64f395-a8c0-4506-9f62-b560672b8c4f",
   "metadata": {},
   "outputs": [
    {
     "data": {
      "text/html": [
       "<style>#sk-container-id-3 {color: black;}#sk-container-id-3 pre{padding: 0;}#sk-container-id-3 div.sk-toggleable {background-color: white;}#sk-container-id-3 label.sk-toggleable__label {cursor: pointer;display: block;width: 100%;margin-bottom: 0;padding: 0.3em;box-sizing: border-box;text-align: center;}#sk-container-id-3 label.sk-toggleable__label-arrow:before {content: \"▸\";float: left;margin-right: 0.25em;color: #696969;}#sk-container-id-3 label.sk-toggleable__label-arrow:hover:before {color: black;}#sk-container-id-3 div.sk-estimator:hover label.sk-toggleable__label-arrow:before {color: black;}#sk-container-id-3 div.sk-toggleable__content {max-height: 0;max-width: 0;overflow: hidden;text-align: left;background-color: #f0f8ff;}#sk-container-id-3 div.sk-toggleable__content pre {margin: 0.2em;color: black;border-radius: 0.25em;background-color: #f0f8ff;}#sk-container-id-3 input.sk-toggleable__control:checked~div.sk-toggleable__content {max-height: 200px;max-width: 100%;overflow: auto;}#sk-container-id-3 input.sk-toggleable__control:checked~label.sk-toggleable__label-arrow:before {content: \"▾\";}#sk-container-id-3 div.sk-estimator input.sk-toggleable__control:checked~label.sk-toggleable__label {background-color: #d4ebff;}#sk-container-id-3 div.sk-label input.sk-toggleable__control:checked~label.sk-toggleable__label {background-color: #d4ebff;}#sk-container-id-3 input.sk-hidden--visually {border: 0;clip: rect(1px 1px 1px 1px);clip: rect(1px, 1px, 1px, 1px);height: 1px;margin: -1px;overflow: hidden;padding: 0;position: absolute;width: 1px;}#sk-container-id-3 div.sk-estimator {font-family: monospace;background-color: #f0f8ff;border: 1px dotted black;border-radius: 0.25em;box-sizing: border-box;margin-bottom: 0.5em;}#sk-container-id-3 div.sk-estimator:hover {background-color: #d4ebff;}#sk-container-id-3 div.sk-parallel-item::after {content: \"\";width: 100%;border-bottom: 1px solid gray;flex-grow: 1;}#sk-container-id-3 div.sk-label:hover label.sk-toggleable__label {background-color: #d4ebff;}#sk-container-id-3 div.sk-serial::before {content: \"\";position: absolute;border-left: 1px solid gray;box-sizing: border-box;top: 0;bottom: 0;left: 50%;z-index: 0;}#sk-container-id-3 div.sk-serial {display: flex;flex-direction: column;align-items: center;background-color: white;padding-right: 0.2em;padding-left: 0.2em;position: relative;}#sk-container-id-3 div.sk-item {position: relative;z-index: 1;}#sk-container-id-3 div.sk-parallel {display: flex;align-items: stretch;justify-content: center;background-color: white;position: relative;}#sk-container-id-3 div.sk-item::before, #sk-container-id-3 div.sk-parallel-item::before {content: \"\";position: absolute;border-left: 1px solid gray;box-sizing: border-box;top: 0;bottom: 0;left: 50%;z-index: -1;}#sk-container-id-3 div.sk-parallel-item {display: flex;flex-direction: column;z-index: 1;position: relative;background-color: white;}#sk-container-id-3 div.sk-parallel-item:first-child::after {align-self: flex-end;width: 50%;}#sk-container-id-3 div.sk-parallel-item:last-child::after {align-self: flex-start;width: 50%;}#sk-container-id-3 div.sk-parallel-item:only-child::after {width: 0;}#sk-container-id-3 div.sk-dashed-wrapped {border: 1px dashed gray;margin: 0 0.4em 0.5em 0.4em;box-sizing: border-box;padding-bottom: 0.4em;background-color: white;}#sk-container-id-3 div.sk-label label {font-family: monospace;font-weight: bold;display: inline-block;line-height: 1.2em;}#sk-container-id-3 div.sk-label-container {text-align: center;}#sk-container-id-3 div.sk-container {/* jupyter's `normalize.less` sets `[hidden] { display: none; }` but bootstrap.min.css set `[hidden] { display: none !important; }` so we also need the `!important` here to be able to override the default hidden behavior on the sphinx rendered scikit-learn.org. See: https://github.com/scikit-learn/scikit-learn/issues/21755 */display: inline-block !important;position: relative;}#sk-container-id-3 div.sk-text-repr-fallback {display: none;}</style><div id=\"sk-container-id-3\" class=\"sk-top-container\"><div class=\"sk-text-repr-fallback\"><pre>Ridge(alpha=5)</pre><b>In a Jupyter environment, please rerun this cell to show the HTML representation or trust the notebook. <br />On GitHub, the HTML representation is unable to render, please try loading this page with nbviewer.org.</b></div><div class=\"sk-container\" hidden><div class=\"sk-item\"><div class=\"sk-estimator sk-toggleable\"><input class=\"sk-toggleable__control sk-hidden--visually\" id=\"sk-estimator-id-3\" type=\"checkbox\" checked><label for=\"sk-estimator-id-3\" class=\"sk-toggleable__label sk-toggleable__label-arrow\">Ridge</label><div class=\"sk-toggleable__content\"><pre>Ridge(alpha=5)</pre></div></div></div></div></div>"
      ],
      "text/plain": [
       "Ridge(alpha=5)"
      ]
     },
     "execution_count": 47,
     "metadata": {},
     "output_type": "execute_result"
    }
   ],
   "source": [
    "ridge = Ridge(alpha=5)\n",
    "ridge.fit(X_train, y_train)"
   ]
  },
  {
   "cell_type": "code",
   "execution_count": 48,
   "id": "b76b2799-276f-49cd-8cd8-349337c7ab8a",
   "metadata": {},
   "outputs": [
    {
     "name": "stdout",
     "output_type": "stream",
     "text": [
      "Intercept (B0): 62.8104006096455\n",
      "Coefficients (B1): [-0.21698907 -1.07352439  1.47620134  0.60532382  2.05123504 -0.\n",
      " -0.7730205 ]\n"
     ]
    }
   ],
   "source": [
    "print('Intercept (B0):',lasso.intercept_)\n",
    "print('Coefficients (B1):',lasso.coef_)"
   ]
  },
  {
   "cell_type": "code",
   "execution_count": 49,
   "id": "279f7d72-81cf-4059-abaf-a3c4a20a9416",
   "metadata": {},
   "outputs": [],
   "source": [
    "ypred_train = ridge.predict(X_train)"
   ]
  },
  {
   "cell_type": "code",
   "execution_count": 50,
   "id": "455f7582-2f34-4a2a-90df-773b5bdae981",
   "metadata": {},
   "outputs": [
    {
     "name": "stdout",
     "output_type": "stream",
     "text": [
      "Train R2: 0.8337856889106701\n",
      "CV Score: 0.8288648665613778\n"
     ]
    }
   ],
   "source": [
    "print('Train R2:', r2_score(y_train, ypred_train))\n",
    "print('CV Score:', cross_val_score(ridge, X_train, y_train, cv=5).mean())"
   ]
  },
  {
   "cell_type": "code",
   "execution_count": 51,
   "id": "7a6fc37b-d04b-4d18-b37f-97919ddb6005",
   "metadata": {},
   "outputs": [
    {
     "name": "stdout",
     "output_type": "stream",
     "text": [
      "Test R2: 0.8463725142759804\n"
     ]
    }
   ],
   "source": [
    "ypred_test = ridge.predict(X_test)\n",
    "print('Test R2:',r2_score(y_test, ypred_test))"
   ]
  },
  {
   "cell_type": "markdown",
   "id": "e3f923ce-30f5-44ba-a003-409dca0e9fcf",
   "metadata": {},
   "source": [
    "## 1.5. ElasticNet Regression"
   ]
  },
  {
   "cell_type": "markdown",
   "id": "f9c34a30-edd1-44a2-92b2-fb38f5981761",
   "metadata": {},
   "source": [
    "HyperParameter Tuning using Grid Search CV"
   ]
  },
  {
   "cell_type": "code",
   "execution_count": 52,
   "id": "b5eb03c7-ed46-4e95-8477-11e8ec37b69e",
   "metadata": {},
   "outputs": [
    {
     "name": "stdout",
     "output_type": "stream",
     "text": [
      "{'alpha': 0.1, 'l1_ratio': 1}\n"
     ]
    }
   ],
   "source": [
    "from sklearn.model_selection import GridSearchCV\n",
    "from sklearn.linear_model import ElasticNet\n",
    "\n",
    "# Create an ElasticNet regression estimator\n",
    "estimator = ElasticNet()\n",
    "\n",
    "# Define the hyperparameter grid for alpha and l1_ratio values\n",
    "param_grid = {'alpha': [0.1, 0.2, 1, 2, 3, 5, 10], \n",
    "              'l1_ratio': [0.1, 0.5, 0.75, 0.9, 0.95, 1]}\n",
    "\n",
    "# Set up GridSearchCV with 5-fold cross-validation and R2 score for evaluation\n",
    "model = GridSearchCV(estimator, param_grid, cv=5, scoring='r2')\n",
    "\n",
    "# Train the model on the training data\n",
    "model.fit(X_train, y_train)\n",
    "\n",
    "# Display the best hyperparameters found by GridSearchCV\n",
    "print(model.best_params_)"
   ]
  },
  {
   "cell_type": "code",
   "execution_count": 53,
   "id": "a2154f47-4729-4a25-aa98-75217de4797f",
   "metadata": {},
   "outputs": [
    {
     "name": "stdout",
     "output_type": "stream",
     "text": [
      "Intercept: 63.46921422423472\n",
      "Coefficients: [-0.22686906 -1.11599365  1.7341554   0.60788021  2.37781464 -3.1858221\n",
      " -1.02234859]\n"
     ]
    }
   ],
   "source": [
    "#Modelling\n",
    "model = ElasticNet(alpha=0.1, l1_ratio=1)\n",
    "model.fit(X_train, y_train)\n",
    "\n",
    "print('Intercept:',model.intercept_)\n",
    "print('Coefficients:', model.coef_)"
   ]
  },
  {
   "cell_type": "code",
   "execution_count": 54,
   "id": "fa4b8b88-4a0f-42b9-9d8a-43dd1a4a680c",
   "metadata": {},
   "outputs": [
    {
     "name": "stdout",
     "output_type": "stream",
     "text": [
      "Train R2: 0.8335308549849251\n",
      "Cross Validation Score: 0.8310497485177952\n"
     ]
    }
   ],
   "source": [
    "print('Train R2:',model.score(X_train, y_train))\n",
    "print('Cross Validation Score:', cross_val_score(model, X, y, cv=5).mean())"
   ]
  },
  {
   "cell_type": "code",
   "execution_count": 55,
   "id": "749f2534-abca-44e3-b700-007954d7d592",
   "metadata": {},
   "outputs": [
    {
     "name": "stdout",
     "output_type": "stream",
     "text": [
      "Test R2: 0.845945948496273\n"
     ]
    }
   ],
   "source": [
    "print('Test R2:',model.score(X_test, y_test))"
   ]
  },
  {
   "cell_type": "markdown",
   "id": "a04ef685-3f7b-43e0-b4c7-7c09773e8cb9",
   "metadata": {},
   "source": [
    "# 2. Tree-Based Models"
   ]
  },
  {
   "cell_type": "markdown",
   "id": "3b637527-a446-4feb-9de7-5525f901806e",
   "metadata": {},
   "source": [
    "## 2.1 Decision Tree Regressor"
   ]
  },
  {
   "cell_type": "markdown",
   "id": "8bb91fd0-dab1-4c6d-9a0d-c66ae83067ef",
   "metadata": {},
   "source": [
    "- Hyperparameters tunning"
   ]
  },
  {
   "cell_type": "code",
   "execution_count": 56,
   "id": "669f1b4d-cc9a-41c4-b78a-f852dd66845c",
   "metadata": {},
   "outputs": [
    {
     "name": "stdout",
     "output_type": "stream",
     "text": [
      "The Best Parameters: {'max_depth': 20, 'min_samples_leaf': 5, 'min_samples_split': 2}\n",
      "The Best CV Score: 0.5911940171949708\n"
     ]
    }
   ],
   "source": [
    "# Import necessary libraries\n",
    "from sklearn.model_selection import GridSearchCV\n",
    "from sklearn.tree import DecisionTreeRegressor\n",
    "\n",
    "# Create a DecisionTreeRegressor model with a fixed random_state for reproducibility\n",
    "tree = DecisionTreeRegressor(random_state=42)\n",
    "\n",
    "# Define the hyperparameter grid for max_depth, min_samples_split, and min_samples_leaf\n",
    "param_grid = {\n",
    "    'max_depth': [2, 3, 5, 10, 20],\n",
    "    'min_samples_split': [2, 5, 10],\n",
    "    'min_samples_leaf': [1, 2, 5] \n",
    "}\n",
    "# Set up GridSearchCV with 5-fold cross-validation and R2 score for evaluation\n",
    "gridsearch = GridSearchCV(tree, param_grid, cv=5, scoring='r2', n_jobs=-1)\n",
    "# Train the model on the training data\n",
    "gridsearch.fit(X_train, y_train)\n",
    "\n",
    "# Print the best hyperparameters and the best cross-validation score\n",
    "print('The Best Parameters:', gridsearch.best_params_)\n",
    "print('The Best CV Score:', gridsearch.best_score_)"
   ]
  },
  {
   "cell_type": "code",
   "execution_count": 57,
   "id": "7f8f728c-2db9-42ca-b4b3-91c7ca1753f9",
   "metadata": {},
   "outputs": [
    {
     "data": {
      "text/html": [
       "<style>#sk-container-id-4 {color: black;}#sk-container-id-4 pre{padding: 0;}#sk-container-id-4 div.sk-toggleable {background-color: white;}#sk-container-id-4 label.sk-toggleable__label {cursor: pointer;display: block;width: 100%;margin-bottom: 0;padding: 0.3em;box-sizing: border-box;text-align: center;}#sk-container-id-4 label.sk-toggleable__label-arrow:before {content: \"▸\";float: left;margin-right: 0.25em;color: #696969;}#sk-container-id-4 label.sk-toggleable__label-arrow:hover:before {color: black;}#sk-container-id-4 div.sk-estimator:hover label.sk-toggleable__label-arrow:before {color: black;}#sk-container-id-4 div.sk-toggleable__content {max-height: 0;max-width: 0;overflow: hidden;text-align: left;background-color: #f0f8ff;}#sk-container-id-4 div.sk-toggleable__content pre {margin: 0.2em;color: black;border-radius: 0.25em;background-color: #f0f8ff;}#sk-container-id-4 input.sk-toggleable__control:checked~div.sk-toggleable__content {max-height: 200px;max-width: 100%;overflow: auto;}#sk-container-id-4 input.sk-toggleable__control:checked~label.sk-toggleable__label-arrow:before {content: \"▾\";}#sk-container-id-4 div.sk-estimator input.sk-toggleable__control:checked~label.sk-toggleable__label {background-color: #d4ebff;}#sk-container-id-4 div.sk-label input.sk-toggleable__control:checked~label.sk-toggleable__label {background-color: #d4ebff;}#sk-container-id-4 input.sk-hidden--visually {border: 0;clip: rect(1px 1px 1px 1px);clip: rect(1px, 1px, 1px, 1px);height: 1px;margin: -1px;overflow: hidden;padding: 0;position: absolute;width: 1px;}#sk-container-id-4 div.sk-estimator {font-family: monospace;background-color: #f0f8ff;border: 1px dotted black;border-radius: 0.25em;box-sizing: border-box;margin-bottom: 0.5em;}#sk-container-id-4 div.sk-estimator:hover {background-color: #d4ebff;}#sk-container-id-4 div.sk-parallel-item::after {content: \"\";width: 100%;border-bottom: 1px solid gray;flex-grow: 1;}#sk-container-id-4 div.sk-label:hover label.sk-toggleable__label {background-color: #d4ebff;}#sk-container-id-4 div.sk-serial::before {content: \"\";position: absolute;border-left: 1px solid gray;box-sizing: border-box;top: 0;bottom: 0;left: 50%;z-index: 0;}#sk-container-id-4 div.sk-serial {display: flex;flex-direction: column;align-items: center;background-color: white;padding-right: 0.2em;padding-left: 0.2em;position: relative;}#sk-container-id-4 div.sk-item {position: relative;z-index: 1;}#sk-container-id-4 div.sk-parallel {display: flex;align-items: stretch;justify-content: center;background-color: white;position: relative;}#sk-container-id-4 div.sk-item::before, #sk-container-id-4 div.sk-parallel-item::before {content: \"\";position: absolute;border-left: 1px solid gray;box-sizing: border-box;top: 0;bottom: 0;left: 50%;z-index: -1;}#sk-container-id-4 div.sk-parallel-item {display: flex;flex-direction: column;z-index: 1;position: relative;background-color: white;}#sk-container-id-4 div.sk-parallel-item:first-child::after {align-self: flex-end;width: 50%;}#sk-container-id-4 div.sk-parallel-item:last-child::after {align-self: flex-start;width: 50%;}#sk-container-id-4 div.sk-parallel-item:only-child::after {width: 0;}#sk-container-id-4 div.sk-dashed-wrapped {border: 1px dashed gray;margin: 0 0.4em 0.5em 0.4em;box-sizing: border-box;padding-bottom: 0.4em;background-color: white;}#sk-container-id-4 div.sk-label label {font-family: monospace;font-weight: bold;display: inline-block;line-height: 1.2em;}#sk-container-id-4 div.sk-label-container {text-align: center;}#sk-container-id-4 div.sk-container {/* jupyter's `normalize.less` sets `[hidden] { display: none; }` but bootstrap.min.css set `[hidden] { display: none !important; }` so we also need the `!important` here to be able to override the default hidden behavior on the sphinx rendered scikit-learn.org. See: https://github.com/scikit-learn/scikit-learn/issues/21755 */display: inline-block !important;position: relative;}#sk-container-id-4 div.sk-text-repr-fallback {display: none;}</style><div id=\"sk-container-id-4\" class=\"sk-top-container\"><div class=\"sk-text-repr-fallback\"><pre>DecisionTreeRegressor(max_depth=20, min_samples_leaf=5)</pre><b>In a Jupyter environment, please rerun this cell to show the HTML representation or trust the notebook. <br />On GitHub, the HTML representation is unable to render, please try loading this page with nbviewer.org.</b></div><div class=\"sk-container\" hidden><div class=\"sk-item\"><div class=\"sk-estimator sk-toggleable\"><input class=\"sk-toggleable__control sk-hidden--visually\" id=\"sk-estimator-id-4\" type=\"checkbox\" checked><label for=\"sk-estimator-id-4\" class=\"sk-toggleable__label sk-toggleable__label-arrow\">DecisionTreeRegressor</label><div class=\"sk-toggleable__content\"><pre>DecisionTreeRegressor(max_depth=20, min_samples_leaf=5)</pre></div></div></div></div></div>"
      ],
      "text/plain": [
       "DecisionTreeRegressor(max_depth=20, min_samples_leaf=5)"
      ]
     },
     "execution_count": 57,
     "metadata": {},
     "output_type": "execute_result"
    }
   ],
   "source": [
    "# Model\n",
    "model = DecisionTreeRegressor(max_depth = 20,\n",
    "                              min_samples_leaf = 5,\n",
    "                              min_samples_split = 2)\n",
    "model.fit(X_train, y_train)"
   ]
  },
  {
   "cell_type": "code",
   "execution_count": 58,
   "id": "30324e1c-e4c5-496a-8283-93fbe06efad1",
   "metadata": {},
   "outputs": [
    {
     "name": "stdout",
     "output_type": "stream",
     "text": [
      "Train Accuracy: 0.892802926253399\n",
      "Train Accuracy: 0.892802926253399\n",
      "CV Score: 0.5711451700129275\n"
     ]
    }
   ],
   "source": [
    "ypred_train = model.predict(X_train)\n",
    "ypred_test = model.predict(X_test)\n",
    "\n",
    "\n",
    "print('Train Accuracy:',r2_score(y_train, ypred_train))\n",
    "print('Train Accuracy:',model.score(X_train, y_train))\n",
    "\n",
    "print('CV Score:',cross_val_score(model, X, y, cv=5, \n",
    "                                  scoring='r2').mean())"
   ]
  },
  {
   "cell_type": "markdown",
   "id": "196628fc-d9f2-45e1-8d6f-5aae957ccf82",
   "metadata": {},
   "source": [
    "## 2.2 Random Forest Regressor"
   ]
  },
  {
   "cell_type": "code",
   "execution_count": 59,
   "id": "068f80d1-ed6c-4ae8-a5be-3a7ff34bb793",
   "metadata": {},
   "outputs": [
    {
     "name": "stdout",
     "output_type": "stream",
     "text": [
      "Train Accuracy: 0.9719352650296927\n",
      "CV Score: 0.8025288550993389\n"
     ]
    }
   ],
   "source": [
    "from sklearn.ensemble import RandomForestRegressor\n",
    "\n",
    "rf = RandomForestRegressor(random_state=43)\n",
    "rf.fit(X_train, y_train)\n",
    "\n",
    "print('Train Accuracy:',rf.score(X_train, y_train))\n",
    "print('CV Score:',cross_val_score(rf, X,y, cv=5, scoring='r2').mean())"
   ]
  },
  {
   "cell_type": "markdown",
   "id": "90f47b8b-f39c-4920-8c31-f05d8190bc6f",
   "metadata": {},
   "source": [
    "#### HyperParameter Tuning using GridSearchCV"
   ]
  },
  {
   "cell_type": "code",
   "execution_count": 60,
   "id": "09c3eeb0-0093-447d-86d7-4c97a1084739",
   "metadata": {},
   "outputs": [
    {
     "name": "stdout",
     "output_type": "stream",
     "text": [
      "Best Parameters: {'max_depth': 20, 'min_samples_leaf': 2, 'min_samples_split': 2, 'n_estimators': 200}\n",
      "Best CV R² Score: 0.8013899288500372\n"
     ]
    }
   ],
   "source": [
    "from sklearn.model_selection import GridSearchCV\n",
    "\n",
    "# 1. Define Parameter Grid\n",
    "param_grid = param_grid = {\n",
    "    'n_estimators': [50, 100, 200],       # number of trees\n",
    "    'max_depth': [5, 10, 20],              # how deep a tree can go\n",
    "    'min_samples_split': [2, 5, 10],       # min samples to split an internal node\n",
    "    'min_samples_leaf': [1, 2, 4],         # min samples required at a leaf node\n",
    "    #'max_features': ['auto', 'sqrt', 'log2'], # number of features to consider at each split\n",
    "    #'bootstrap': [True, False]             # whether bootstrap samples are used\n",
    "}\n",
    "\n",
    "# 2. Setup GridSearch\n",
    "grid_search = GridSearchCV(\n",
    "    RandomForestRegressor(random_state=42),\n",
    "    param_grid,\n",
    "    cv=5,\n",
    "    scoring='r2',\n",
    "    n_jobs=-1\n",
    ")\n",
    "\n",
    "# 3. Fit\n",
    "grid_search.fit(X_train, y_train)\n",
    "\n",
    "# 4. Results\n",
    "print('Best Parameters:', grid_search.best_params_)\n",
    "print('Best CV R² Score:', grid_search.best_score_)"
   ]
  },
  {
   "cell_type": "code",
   "execution_count": 61,
   "id": "0d22da96-29b6-4a2f-9219-3fbd145afbe4",
   "metadata": {},
   "outputs": [
    {
     "name": "stdout",
     "output_type": "stream",
     "text": [
      "Train Accuracy: 0.9590553380458351\n",
      "CV Score: 0.8022180552444758\n"
     ]
    }
   ],
   "source": [
    "\n",
    "rf = RandomForestRegressor(max_depth = 20,\n",
    "                           min_samples_leaf=2,\n",
    "                           min_samples_split=2, \n",
    "                           n_estimators=200)\n",
    "rf.fit(X_train, y_train)\n",
    "\n",
    "print('Train Accuracy:',rf.score(X_train, y_train))\n",
    "print('CV Score:',cross_val_score(rf, X,y, cv=5, scoring='r2').mean())"
   ]
  },
  {
   "cell_type": "markdown",
   "id": "43826ee9-b488-4a98-a221-b104cc479953",
   "metadata": {},
   "source": [
    "# 3. Boosting Models"
   ]
  },
  {
   "cell_type": "markdown",
   "id": "f4c6118d-9dce-489b-8af0-ac4c61c2fd6a",
   "metadata": {},
   "source": [
    "## 3.1. Gradient Boosting Regressor"
   ]
  },
  {
   "cell_type": "code",
   "execution_count": 62,
   "id": "f10b10f6-5ecb-4c6e-9ac1-4c098d4b79f7",
   "metadata": {},
   "outputs": [
    {
     "name": "stdout",
     "output_type": "stream",
     "text": [
      "Train Accuracy: 0.94451143071305\n",
      "CV Score: 0.8411570631745281\n"
     ]
    }
   ],
   "source": [
    "from sklearn.ensemble import GradientBoostingRegressor\n",
    "from sklearn.model_selection import cross_val_score\n",
    "\n",
    "gbr = GradientBoostingRegressor(random_state=43)\n",
    "gbr.fit(X_train, y_train)\n",
    "\n",
    "print('Train Accuracy:',gbr.score(X_train, y_train))\n",
    "print('CV Score:', cross_val_score(gbr, X, y, cv=5, scoring='r2').mean())"
   ]
  },
  {
   "cell_type": "markdown",
   "id": "fbc89f5f-3fe2-48ac-ac74-4fc0d5441b4e",
   "metadata": {},
   "source": [
    "#### HyperParameter Tuning"
   ]
  },
  {
   "cell_type": "code",
   "execution_count": 63,
   "id": "21874b19-8524-4403-ae6d-e0a16d551bc0",
   "metadata": {},
   "outputs": [
    {
     "name": "stdout",
     "output_type": "stream",
     "text": [
      "Fitting 5 folds for each of 243 candidates, totalling 1215 fits\n",
      "Best Parameters: {'learning_rate': 0.05, 'max_depth': 3, 'min_samples_leaf': 5, 'min_samples_split': 2, 'n_estimators': 300}\n",
      "Best CV Score: 0.8451345071436462\n"
     ]
    }
   ],
   "source": [
    "from sklearn.ensemble import GradientBoostingRegressor\n",
    "from sklearn.model_selection import GridSearchCV\n",
    "\n",
    "gbr = GradientBoostingRegressor(random_state=42)\n",
    "\n",
    "param_grid = {\n",
    "    'n_estimators': [100,200,300],\n",
    "    'learning_rate': [0.01, 0.05, 0.1],\n",
    "    'max_depth': [3,5,7],\n",
    "    'min_samples_split': [2,5,10],\n",
    "    'min_samples_leaf': [1,2,5]\n",
    "}\n",
    "\n",
    "gbr_cv = GridSearchCV(estimator=gbr, param_grid=param_grid, \n",
    "                      scoring='r2', cv=5, verbose=2, n_jobs=-1)\n",
    "\n",
    "\n",
    "gbr_cv.fit(X_train, y_train)\n",
    "\n",
    "print(\"Best Parameters:\", gbr_cv.best_params_)\n",
    "print(\"Best CV Score:\", gbr_cv.best_score_)"
   ]
  },
  {
   "cell_type": "code",
   "execution_count": 64,
   "id": "b8053236-e21a-4a16-a1cf-073a8493c0e8",
   "metadata": {},
   "outputs": [
    {
     "name": "stdout",
     "output_type": "stream",
     "text": [
      "Train Accuracy: 0.9522963572528155\n",
      "CV Score: 0.8558831134393274\n"
     ]
    }
   ],
   "source": [
    "gbr = GradientBoostingRegressor(learning_rate = 0.05, \n",
    "                                max_depth = 3,\n",
    "                                min_samples_leaf = 5,\n",
    "                                min_samples_split = 2,\n",
    "                                n_estimators = 300)\n",
    "gbr.fit(X_train, y_train)\n",
    "\n",
    "print('Train Accuracy:',gbr.score(X_train, y_train))\n",
    "print('CV Score:', cross_val_score(gbr, X, y, cv=5, scoring='r2').mean())"
   ]
  },
  {
   "cell_type": "code",
   "execution_count": 65,
   "id": "1d3d53cd-ea53-49a1-ade3-02e94bb1a0ef",
   "metadata": {},
   "outputs": [
    {
     "name": "stdout",
     "output_type": "stream",
     "text": [
      "Final Test Accuracy: 0.8593945819950797\n"
     ]
    }
   ],
   "source": [
    "print(\"Final Test Accuracy:\",gbr.score(X_test, y_test)) "
   ]
  },
  {
   "cell_type": "markdown",
   "id": "b6a129ee-5ee3-4ce2-90a8-498e24e9a86e",
   "metadata": {},
   "source": [
    "## 3.2. XGBoost Regressor"
   ]
  },
  {
   "cell_type": "code",
   "execution_count": 66,
   "id": "41c9f3cd-271b-4924-9b72-a09782cbdeb8",
   "metadata": {},
   "outputs": [
    {
     "name": "stdout",
     "output_type": "stream",
     "text": [
      "Train Accuracy: 0.9997891444092526\n",
      "CV Score: 0.7984455111437271\n",
      "\n",
      "Test Accuracy: 0.9997891444092526\n"
     ]
    }
   ],
   "source": [
    "from xgboost import XGBRegressor\n",
    "\n",
    "xgb = XGBRegressor(random_state = 43)\n",
    "xgb.fit(X_train, y_train)\n",
    "\n",
    "print('Train Accuracy:', xgb.score(X_train, y_train))\n",
    "print('CV Score:',cross_val_score(xgb, X,y, cv=5, scoring='r2').mean())\n",
    "print('\\nTest Accuracy:', xgb.score(X_train, y_train))"
   ]
  },
  {
   "cell_type": "markdown",
   "id": "cad33001-1652-435e-b9da-d2039969d380",
   "metadata": {},
   "source": [
    "HyperParameter Tuning using GridSearchCV"
   ]
  },
  {
   "cell_type": "code",
   "execution_count": 67,
   "id": "fc03bdcf-b7e6-4dc8-8393-32df41db8990",
   "metadata": {},
   "outputs": [
    {
     "name": "stdout",
     "output_type": "stream",
     "text": [
      "Fitting 5 folds for each of 243 candidates, totalling 1215 fits\n",
      "Best Parameters: {'colsample_bytree': 0.8, 'learning_rate': 0.05, 'max_depth': 3, 'n_estimators': 300, 'subsample': 0.7}\n",
      "Best CV Score: 0.858182916977291\n"
     ]
    }
   ],
   "source": [
    "from sklearn.model_selection import GridSearchCV\n",
    "\n",
    "param_grid = {\n",
    "    'n_estimators': [100, 200, 300],\n",
    "    'learning_rate': [0.01, 0.05, 0.1],\n",
    "    'max_depth': [3,5,7],\n",
    "    'subsample': [0.7, 0.8, 1.0],\n",
    "    'colsample_bytree': [0.7, 0.8, 1.0]\n",
    "}\n",
    "\n",
    "xgb = XGBRegressor(random_state = 43)\n",
    "\n",
    "cv = GridSearchCV(estimator = xgb, param_grid = param_grid, \n",
    "                  scoring = 'r2', cv=5, verbose = 2, n_jobs = -1)\n",
    "\n",
    "cv.fit(X_train, y_train)\n",
    "\n",
    "print('Best Parameters:', cv.best_params_)\n",
    "print('Best CV Score:', cv.best_score_)"
   ]
  },
  {
   "cell_type": "code",
   "execution_count": 68,
   "id": "f9d7ce39-43ea-42ae-84d2-e6d3e1a0dbde",
   "metadata": {},
   "outputs": [
    {
     "name": "stdout",
     "output_type": "stream",
     "text": [
      "Train Accuracy: 0.9473844939678688\n",
      "CV Score: 0.8625516457430729\n"
     ]
    }
   ],
   "source": [
    "xgb = XGBRegressor(random_state = 43, n_estimators = 300,\n",
    "                   learning_rate = 0.05, max_depth = 3,\n",
    "                   subsample = 0.7, colsample_bytree = 0.8)\n",
    "xgb.fit(X_train, y_train)\n",
    "\n",
    "print('Train Accuracy:',xgb.score(X_train, y_train))\n",
    "print('CV Score:',cross_val_score(xgb, X,y, cv=5, scoring='r2').mean())"
   ]
  },
  {
   "cell_type": "markdown",
   "id": "69982885-a708-4798-9e5d-d63e05911411",
   "metadata": {},
   "source": [
    "# 4. Hybrid Model built from models with the highest CV scores."
   ]
  },
  {
   "cell_type": "code",
   "execution_count": 69,
   "id": "03be8dd1-0a2f-4867-bc80-233cb2dbc43f",
   "metadata": {},
   "outputs": [
    {
     "name": "stdout",
     "output_type": "stream",
     "text": [
      "Hybrid Model - Mean Squared Error: 22.97394870943216\n",
      "Hybrid Model - Train Accuracy Score: 0.8654444055682923\n",
      "Hybrid Model - Cross-Validation R² Score: 0.8612251837817952\n"
     ]
    }
   ],
   "source": [
    "from sklearn.ensemble import VotingRegressor, GradientBoostingRegressor\n",
    "from sklearn.linear_model import LinearRegression\n",
    "from sklearn.ensemble import RandomForestRegressor\n",
    "from xgboost import XGBRegressor\n",
    "from sklearn.metrics import mean_squared_error, r2_score\n",
    "from sklearn.model_selection import cross_val_score\n",
    "\n",
    "# Initialize individual models\n",
    "xgb_model = XGBRegressor(random_state=43, n_estimators=300,\n",
    "                         learning_rate=0.05, max_depth=3,\n",
    "                         subsample=0.7, colsample_bytree=0.8)\n",
    "\n",
    "rf_model = RandomForestRegressor(max_depth=20, min_samples_leaf=2,\n",
    "                                 min_samples_split=2, n_estimators=200)\n",
    "\n",
    "gb_model = GradientBoostingRegressor(learning_rate = 0.05, max_depth = 3,\n",
    "                                min_samples_leaf = 5,min_samples_split = 2,\n",
    "                                n_estimators = 300)\n",
    "lr_model = LinearRegression()\n",
    "\n",
    "# Create the Voting Regressor with Gradient Boosting included\n",
    "hybrid = VotingRegressor(estimators=[('lr', lr_model), \n",
    "                                     ('rf', rf_model), \n",
    "                                     ('xgb', xgb_model),\n",
    "                                     ('gb', gb_model)])\n",
    "\n",
    "# Fit the Voting Regressor\n",
    "hybrid.fit(X_train, y_train)\n",
    "\n",
    "# Predict with the Voting Regressor\n",
    "hybrid_pred = hybrid.predict(X_test)\n",
    "\n",
    "# Mean Squared Error\n",
    "print(\"Hybrid Model - Mean Squared Error:\", mean_squared_error(y_test, hybrid_pred))\n",
    "\n",
    "# Evaluate the hybrid model\n",
    "print(\"Hybrid Model - Train Accuracy Score:\", r2_score(y_test, hybrid_pred))\n",
    "\n",
    "# Cross-validation for the hybrid model\n",
    "print(\"Hybrid Model - Cross-Validation R² Score:\", cross_val_score(hybrid, X, \n",
    "                                                                   y, cv=5, \n",
    "                                                                   scoring='r2').mean())\n"
   ]
  },
  {
   "cell_type": "code",
   "execution_count": 70,
   "id": "6bc61cb7-1fd6-4d5e-8642-f54b5657c493",
   "metadata": {},
   "outputs": [
    {
     "name": "stdout",
     "output_type": "stream",
     "text": [
      "Hybrid Model Prediction for Custom Input: [50.97849519]\n"
     ]
    }
   ],
   "source": [
    "# Step 1: Prepare custom input values (example)\n",
    "custom_data = np.array([[25, 28.4, 1, 37.3, 4, 1, 5.5]])\n",
    "\n",
    "# Step 2: Make predictions using the hybrid model (Voting Regressor)\n",
    "prediction = hybrid.predict(custom_data)\n",
    "\n",
    "# Step 3: Display the hybrid model's prediction for the custom input\n",
    "print(\"Hybrid Model Prediction for Custom Input:\", prediction)\n"
   ]
  },
  {
   "cell_type": "markdown",
   "id": "74e88408-b7bd-4a6d-acd2-0822ae8588ef",
   "metadata": {},
   "source": [
    "### Exporting the hybrid model in Pickle file"
   ]
  },
  {
   "cell_type": "code",
   "execution_count": 72,
   "id": "48c1fd18-2dda-4912-887f-2dd3dd332ed1",
   "metadata": {},
   "outputs": [
    {
     "name": "stdout",
     "output_type": "stream",
     "text": [
      "Hybrid model saved successfully as 'hybrid_model.pkl'\n"
     ]
    }
   ],
   "source": [
    "import pickle\n",
    "\n",
    "# Save the trained hybrid model to a pickle file\n",
    "with open('hybrid_model.pkl', 'wb') as file:\n",
    "    pickle.dump(hybrid, file)\n",
    "\n",
    "print(\"Hybrid model saved successfully as 'hybrid_model.pkl'\")"
   ]
  },
  {
   "cell_type": "markdown",
   "id": "1ec25d0a-fdd8-4321-89d5-964a414931b6",
   "metadata": {},
   "source": [
    "### To Load the pickle File"
   ]
  },
  {
   "cell_type": "code",
   "execution_count": 73,
   "id": "ebaa8482-32ae-4c4c-81d5-7666350d2b25",
   "metadata": {},
   "outputs": [
    {
     "name": "stdout",
     "output_type": "stream",
     "text": [
      "Loaded Model - R² Score: 0.8654444055682923\n"
     ]
    }
   ],
   "source": [
    "# Load the saved hybrid model\n",
    "with open('hybrid_model.pkl', 'rb') as file:\n",
    "    loaded_model = pickle.load(file)\n",
    "\n",
    "# Predict using the loaded model\n",
    "predictions = loaded_model.predict(X_test)\n",
    "\n",
    "# Evaluate if needed\n",
    "print(\"Loaded Model - R² Score:\", r2_score(y_test, predictions))\n"
   ]
  }
 ],
 "metadata": {
  "kernelspec": {
   "display_name": "Python 3 (ipykernel)",
   "language": "python",
   "name": "python3"
  },
  "language_info": {
   "codemirror_mode": {
    "name": "ipython",
    "version": 3
   },
   "file_extension": ".py",
   "mimetype": "text/x-python",
   "name": "python",
   "nbconvert_exporter": "python",
   "pygments_lexer": "ipython3",
   "version": "3.11.5"
  }
 },
 "nbformat": 4,
 "nbformat_minor": 5
}
